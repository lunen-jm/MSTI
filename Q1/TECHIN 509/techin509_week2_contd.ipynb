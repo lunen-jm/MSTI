{
  "nbformat": 4,
  "nbformat_minor": 0,
  "metadata": {
    "colab": {
      "provenance": []
    },
    "kernelspec": {
      "name": "python3",
      "display_name": "Python 3"
    },
    "language_info": {
      "name": "python"
    }
  },
  "cells": [
    {
      "cell_type": "code",
      "execution_count": 1,
      "metadata": {
        "colab": {
          "base_uri": "https://localhost:8080/",
          "height": 73
        },
        "id": "mi_QHTUroHTv",
        "outputId": "c336e9d9-e13c-4e8c-8d6a-1560019ae165"
      },
      "outputs": [
        {
          "output_type": "execute_result",
          "data": {
            "text/plain": [
              "'\\n1. Number & arithmatics (+-*/)\\n2. Variables \\n    x = 1, y = \"hello\"\\n3. Strings\\n    \"hello\"[    1:  3:   2] -> e\"\\n            start:end:step\\n'"
            ],
            "application/vnd.google.colaboratory.intrinsic+json": {
              "type": "string"
            }
          },
          "metadata": {},
          "execution_count": 1
        }
      ],
      "source": [
        "\"\"\"\n",
        "1. Number & arithmatics (+-*/)\n",
        "2. Variables\n",
        "    x = 1, y = \"hello\"\n",
        "3. Strings\n",
        "    \"hello\"[    1:  3:   2] -> \"e\"\n",
        "            start:end:step\n",
        "4. \"string\".upper()\n",
        "   \"NAME\".lower()\n",
        "\"\"\""
      ]
    },
    {
      "cell_type": "code",
      "source": [
        "#...\n",
        "# https://www.learnpython.org/en/String_Formatting\n",
        "my_char = \"hello\"[1:3:2]\n",
        "my_other_char = \"hello\"[0:2:1]\n",
        "print(f\"my_char is %s\"%my_char)\n",
        "print(f\"my_char is %s, my_other_char is %s\"%(my_char, my_other_char))\n",
        "#..."
      ],
      "metadata": {
        "colab": {
          "base_uri": "https://localhost:8080/"
        },
        "id": "DVmxRFOEqttL",
        "outputId": "04297761-fce8-4bca-9156-847851fba5a6"
      },
      "execution_count": 11,
      "outputs": [
        {
          "output_type": "stream",
          "name": "stdout",
          "text": [
            "my_char is e\n",
            "my_char is e, my_other_char is he\n"
          ]
        }
      ]
    },
    {
      "cell_type": "code",
      "source": [
        "email_template = \"\"\"\n",
        "Hi {first_name} {last_name},\n",
        "\n",
        "Thank you for signing up, your coupon code is {coupon}\n",
        "\"\"\"\n",
        "last_name = \"Chen\"\n",
        "first_name = \"Ian\"\n",
        "coupon = \"123456\"\n",
        "\n",
        "rendered_email = email_template.format(first_name=first_name, last_name=last_name, coupon=coupon)\n",
        "print(rendered_email)\n"
      ],
      "metadata": {
        "colab": {
          "base_uri": "https://localhost:8080/"
        },
        "id": "71s0ZyD9rNOo",
        "outputId": "c5ce1783-0bb5-45a7-8344-b83930eeda80"
      },
      "execution_count": 13,
      "outputs": [
        {
          "output_type": "stream",
          "name": "stdout",
          "text": [
            "\n",
            "Hi Ian Chen,\n",
            "\n",
            "Thank you for signing up, your coupon code is 123456\n",
            "\n"
          ]
        }
      ]
    },
    {
      "cell_type": "code",
      "source": [
        "name = \"Ian Chen\"\n",
        "position = \"Lecturer\"\n",
        "organization = \"University of Washington\"\n",
        "\n",
        "s = f\"Hi, my name is {name}, I'm a {position} at {organization}\\nI am teaching techin509\"\n",
        "s"
      ],
      "metadata": {
        "colab": {
          "base_uri": "https://localhost:8080/",
          "height": 73
        },
        "id": "C7T9th_zt7D6",
        "outputId": "de8e54e5-b032-46ac-be33-14e46763de36"
      },
      "execution_count": 15,
      "outputs": [
        {
          "output_type": "execute_result",
          "data": {
            "text/plain": [
              "\"Hi, my name is Ian Chen, I'm a Lecturer at University of Washington\\nI am teaching techin509\""
            ],
            "application/vnd.google.colaboratory.intrinsic+json": {
              "type": "string"
            }
          },
          "metadata": {},
          "execution_count": 15
        }
      ]
    },
    {
      "cell_type": "code",
      "source": [
        "name = \"Ian Chen\"\n",
        "position = \"Lecturer\"\n",
        "organization = \"University of Washington\"\n",
        "\n",
        "s = f\"Hi, my name is {name}, I'm a {position} at {organization}\\nI am teaching techin509\"\n",
        "print(s)"
      ],
      "metadata": {
        "colab": {
          "base_uri": "https://localhost:8080/"
        },
        "id": "W8_OQefjujRg",
        "outputId": "4636da2e-fa1a-433c-95e2-4f5bdce79bdf"
      },
      "execution_count": 16,
      "outputs": [
        {
          "output_type": "stream",
          "name": "stdout",
          "text": [
            "Hi, my name is Ian Chen, I'm a Lecturer at University of Washington\n",
            "I am teaching techin509\n"
          ]
        }
      ]
    },
    {
      "cell_type": "code",
      "source": [
        "username = input(\"Please enter your username:\")\n",
        "print(f\"username is {username}\")"
      ],
      "metadata": {
        "colab": {
          "base_uri": "https://localhost:8080/"
        },
        "id": "Oq32x2JcvF8A",
        "outputId": "6631a8e2-aa68-48fd-e13b-1d9e2bf2288a"
      },
      "execution_count": 18,
      "outputs": [
        {
          "output_type": "stream",
          "name": "stdout",
          "text": [
            "Please enter your username:ychen349\n",
            "username is ychen349\n"
          ]
        }
      ]
    },
    {
      "cell_type": "code",
      "source": [
        "# File I/O\n",
        "# w -> write\n",
        "# r -> read\n",
        "# a -> append\n",
        "# wb -> write binary\n",
        "f = open('test.txt', 'w')"
      ],
      "metadata": {
        "id": "BTEDjo0yvfbQ"
      },
      "execution_count": 19,
      "outputs": []
    },
    {
      "cell_type": "code",
      "source": [
        "f"
      ],
      "metadata": {
        "colab": {
          "base_uri": "https://localhost:8080/"
        },
        "id": "w-cvMEAHwKKL",
        "outputId": "a789b6e2-e252-4f26-d402-53ea4dbe460a"
      },
      "execution_count": 21,
      "outputs": [
        {
          "output_type": "execute_result",
          "data": {
            "text/plain": [
              "<_io.TextIOWrapper name='test.txt' mode='w' encoding='UTF-8'>"
            ]
          },
          "metadata": {},
          "execution_count": 21
        }
      ]
    },
    {
      "cell_type": "code",
      "source": [
        "f.write(\"hello world\")"
      ],
      "metadata": {
        "colab": {
          "base_uri": "https://localhost:8080/"
        },
        "id": "I2mGVaMVwRRH",
        "outputId": "bc195965-30cb-4f09-eb99-00464be96d29"
      },
      "execution_count": 22,
      "outputs": [
        {
          "output_type": "execute_result",
          "data": {
            "text/plain": [
              "11"
            ]
          },
          "metadata": {},
          "execution_count": 22
        }
      ]
    },
    {
      "cell_type": "code",
      "source": [
        "f.close()"
      ],
      "metadata": {
        "id": "6nToPz2vwUd8"
      },
      "execution_count": 24,
      "outputs": []
    },
    {
      "cell_type": "code",
      "source": [
        "with open('test2.txt', 'w') as f:\n",
        "    f.write(\"hello world!!!\")\n",
        "\n",
        "\"\"\"\n",
        "f = open('test2.txt', 'w')\n",
        "f.write(\"hello world!!!\")\n",
        "f.close()\n",
        "\"\"\""
      ],
      "metadata": {
        "id": "2gtRyzTxxBo4"
      },
      "execution_count": 26,
      "outputs": []
    },
    {
      "cell_type": "code",
      "source": [
        "with open('test2.txt', 'r') as f:\n",
        "    # now f variable is available, it represents the FileIOWrapper\n",
        "    content = f.read()\n",
        "    print(content)\n",
        "# Now the file is automatically closed"
      ],
      "metadata": {
        "colab": {
          "base_uri": "https://localhost:8080/"
        },
        "id": "Tc0CaXALxHlR",
        "outputId": "ca30c17e-f0c1-48a8-c948-440b23de6031"
      },
      "execution_count": 27,
      "outputs": [
        {
          "output_type": "stream",
          "name": "stdout",
          "text": [
            "hello world!!!\n"
          ]
        }
      ]
    },
    {
      "cell_type": "code",
      "source": [
        "with open('test2.txt', 'r') as f:\n",
        "    # now f variable is available, it represents the FileIOWrapper\n",
        "    content = f.read()\n",
        "    print(content)\n",
        "# Now the file is automatically closed"
      ],
      "metadata": {
        "id": "ZUdpWeRlyLuZ"
      },
      "execution_count": null,
      "outputs": []
    },
    {
      "cell_type": "code",
      "source": [
        "large_csv_content = \"\"\"\n",
        "1,ian,chen\n",
        "2,luyao,niu\n",
        "\"\"\"\n",
        "large_csv_content"
      ],
      "metadata": {
        "colab": {
          "base_uri": "https://localhost:8080/",
          "height": 56
        },
        "id": "QDTPJQ87yp84",
        "outputId": "a60d1ef9-97ed-4f1d-f446-37d2b699dafa"
      },
      "execution_count": 32,
      "outputs": [
        {
          "output_type": "execute_result",
          "data": {
            "text/plain": [
              "'\\n1,ian,chen\\n2,luyao,niu\\n'"
            ],
            "application/vnd.google.colaboratory.intrinsic+json": {
              "type": "string"
            }
          },
          "metadata": {},
          "execution_count": 32
        }
      ]
    },
    {
      "cell_type": "code",
      "source": [
        "with open('test3.csv', 'w') as f:\n",
        "    f.write(large_csv_content)"
      ],
      "metadata": {
        "id": "03tgT818z7HS"
      },
      "execution_count": null,
      "outputs": []
    },
    {
      "cell_type": "code",
      "source": [
        "# \"s\"[start:end:step]\n",
        "\"hello\"[:-1]"
      ],
      "metadata": {
        "colab": {
          "base_uri": "https://localhost:8080/",
          "height": 56
        },
        "id": "FvTW0TTT0d-1",
        "outputId": "1c908655-1718-49e5-e2c4-d32645fa440d"
      },
      "execution_count": 36,
      "outputs": [
        {
          "output_type": "execute_result",
          "data": {
            "text/plain": [
              "'hell'"
            ],
            "application/vnd.google.colaboratory.intrinsic+json": {
              "type": "string"
            }
          },
          "metadata": {},
          "execution_count": 36
        }
      ]
    },
    {
      "cell_type": "code",
      "source": [
        "with open('test3.csv', 'r') as f:\n",
        "    for row in f:\n",
        "        print(row[:-1])"
      ],
      "metadata": {
        "colab": {
          "base_uri": "https://localhost:8080/"
        },
        "id": "YYK5dcUNy0vw",
        "outputId": "6fe98508-5b03-426f-c5ee-468c63e82b6e"
      },
      "execution_count": 37,
      "outputs": [
        {
          "output_type": "stream",
          "name": "stdout",
          "text": [
            "\n",
            "1,ian,chen\n",
            "2,luyao,niu\n"
          ]
        }
      ]
    },
    {
      "cell_type": "code",
      "source": [
        "with open('test3.csv', 'r') as f:\n",
        "    for row in f:\n",
        "        print(repr(row))"
      ],
      "metadata": {
        "colab": {
          "base_uri": "https://localhost:8080/"
        },
        "id": "u18R7jKr2l8o",
        "outputId": "fb2029e0-4c23-490f-9893-a1c1c5c97256"
      },
      "execution_count": 47,
      "outputs": [
        {
          "output_type": "stream",
          "name": "stdout",
          "text": [
            "'\\n'\n",
            "'1,ian,chen\\n'\n",
            "'2,luyao,niu\\n'\n"
          ]
        }
      ]
    },
    {
      "cell_type": "code",
      "source": [
        "with open('test3.csv', 'r') as f:\n",
        "    for row in f:\n",
        "        print(repr(row[:-1]))"
      ],
      "metadata": {
        "colab": {
          "base_uri": "https://localhost:8080/"
        },
        "id": "LMo5wu7Ry_wq",
        "outputId": "e2def40b-d516-4b30-9db7-5bdbe7e107af"
      },
      "execution_count": 44,
      "outputs": [
        {
          "output_type": "stream",
          "name": "stdout",
          "text": [
            "''\n",
            "'1,ian,chen'\n",
            "'2,luyao,niu'\n"
          ]
        }
      ]
    },
    {
      "cell_type": "code",
      "source": [
        "with open('test3.csv', 'r') as f:\n",
        "    for row in f:\n",
        "        print(repr(row.strip()))"
      ],
      "metadata": {
        "colab": {
          "base_uri": "https://localhost:8080/"
        },
        "id": "StLC8zQa1k0n",
        "outputId": "dbc84754-fc19-43d0-edad-15520802f159"
      },
      "execution_count": 46,
      "outputs": [
        {
          "output_type": "stream",
          "name": "stdout",
          "text": [
            "''\n",
            "'1,ian,chen'\n",
            "'2,luyao,niu'\n"
          ]
        }
      ]
    }
  ]
}