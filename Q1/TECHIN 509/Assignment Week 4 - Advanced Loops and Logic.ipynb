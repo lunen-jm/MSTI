{
 "cells": [
  {
   "cell_type": "markdown",
   "metadata": {},
   "source": [
    "# Assignment Week 4 - Advanced Logic and Functions\n",
    "\n",
    "## Problem 1\n",
    "\n",
    "Find the factorial of a given number:"
   ]
  },
  {
   "cell_type": "code",
   "execution_count": 5,
   "metadata": {},
   "outputs": [
    {
     "name": "stdout",
     "output_type": "stream",
     "text": [
      "6\n"
     ]
    }
   ],
   "source": [
    "num = input(\"Tell me an integer and I'll return its factorial\")\n",
    "nums = list(range((int(num) + 1)))\n",
    "factorial = 1\n",
    "for number in nums[1:]:\n",
    "    factorial = factorial * number\n",
    "print(factorial)"
   ]
  },
  {
   "cell_type": "markdown",
   "metadata": {},
   "source": [
    "## Problem 2 \n",
    "\n",
    "Write a function to add two numbers using only the `inc(x)` and `dec(x)` functions:"
   ]
  },
  {
   "cell_type": "code",
   "execution_count": 16,
   "metadata": {},
   "outputs": [
    {
     "name": "stdout",
     "output_type": "stream",
     "text": [
      "40\n"
     ]
    }
   ],
   "source": [
    "def inc(x: int) -> int:\n",
    "    \"\"\"Increments and returns the given integer.\"\"\"\n",
    "    if not isinstance(x, int):\n",
    "        raise TypeError(\"Given number is not an integer.\")\n",
    "    return x + 1\n",
    "\n",
    "\n",
    "def dec(x: int) -> int:\n",
    "    \"\"\"Decrements and returns the given integer.\"\"\"\n",
    "    if not isinstance(x, int):\n",
    "        raise TypeError(\"Given number is not an integer.\")\n",
    "    return x - 1\n",
    "\n",
    "\n",
    "def add(x: int, y: int) -> int:\n",
    "    \"\"\"Adds and returns two given integers with increment and decrement functions.\"\"\"\n",
    "    if not isinstance(x, int) or not isinstance(y, int):\n",
    "        raise TypeError(\"Given input is not an integer.\")\n",
    "    if x < 0 or y < 0:\n",
    "        raise ValueError(\"One or more inputs are less than 0.\")\n",
    "\n",
    "    # Implement your code here.\n",
    "    i = 0\n",
    "    while i < y:\n",
    "        x = inc(x)\n",
    "        i += 1\n",
    "    print(x)\n",
    "\n",
    "add(5, 35)\n",
    "        "
   ]
  },
  {
   "cell_type": "markdown",
   "metadata": {},
   "source": [
    "## Problem 3\n",
    "\n",
    "Determine if the given year is a leap year:"
   ]
  },
  {
   "cell_type": "code",
   "execution_count": 25,
   "metadata": {},
   "outputs": [
    {
     "name": "stdout",
     "output_type": "stream",
     "text": [
      "It's a leap year!\n"
     ]
    }
   ],
   "source": [
    "year = int(input(\"Input a year as an integer and I will return whether it is a leap year or not!\"))\n",
    "\n",
    "if year % 4 == 0:\n",
    "    if year % 100 == 0:\n",
    "        if year % 400 == 0:\n",
    "            print(\"It's a leap year!\")\n",
    "        else:\n",
    "            print(\"It's not a leap year :(\")\n",
    "    else:\n",
    "        print(\"It's a leap year!\")\n",
    "else:\n",
    "    print(\"It's not a leap year :(\")"
   ]
  },
  {
   "cell_type": "markdown",
   "metadata": {},
   "source": [
    "## Problem 4\n",
    "\n",
    "Given a number `n`, return the nth Fibonacci's number. This is a classic application of recursion in programming."
   ]
  },
  {
   "cell_type": "code",
   "execution_count": 37,
   "metadata": {},
   "outputs": [
    {
     "name": "stdout",
     "output_type": "stream",
     "text": [
      "2\n"
     ]
    }
   ],
   "source": [
    "num = int(input(\"Tell me a non-zero integer and I will let you know the corresponding (n) fibonacci number!\"))\n",
    "fib_1 = 0\n",
    "fib_2 = 1\n",
    "\n",
    "if num == 1:\n",
    "    fib_3 = 0\n",
    "elif num == 2:\n",
    "    fib_3 = 1\n",
    "else:\n",
    "    i = 2\n",
    "    while i < num:\n",
    "        fib_3 = fib_1 + fib_2\n",
    "        fib_1 = fib_2\n",
    "        fib_2 = fib_3\n",
    "        i += 1\n",
    "\n",
    "print(fib_3)p\n",
    "    \n"
   ]
  }
 ],
 "metadata": {
  "kernelspec": {
   "display_name": "base",
   "language": "python",
   "name": "python3"
  },
  "language_info": {
   "codemirror_mode": {
    "name": "ipython",
    "version": 3
   },
   "file_extension": ".py",
   "mimetype": "text/x-python",
   "name": "python",
   "nbconvert_exporter": "python",
   "pygments_lexer": "ipython3",
   "version": "3.12.4"
  }
 },
 "nbformat": 4,
 "nbformat_minor": 2
}
