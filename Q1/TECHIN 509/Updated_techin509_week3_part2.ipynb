{
  "cells": [
    {
      "cell_type": "code",
      "execution_count": null,
      "metadata": {
        "id": "lSnPDPHWrhf0"
      },
      "outputs": [],
      "source": [
        "# Collections\n",
        "#\n",
        "# C -> Create\n",
        "# R -> Read\n",
        "# U -> Update\n",
        "# D -> Delete"
      ]
    },
    {
      "cell_type": "code",
      "execution_count": 6,
      "metadata": {
        "colab": {
          "base_uri": "https://localhost:8080/"
        },
        "id": "3_FbCWxCvEc_",
        "outputId": "a82652ae-db98-48c4-959b-e41bb4f31281"
      },
      "outputs": [
        {
          "name": "stdout",
          "output_type": "stream",
          "text": [
            "Create\n",
            "----------\n",
            "Add to the end of the list\n",
            "[1, 2]\n",
            "----------\n",
            "Read the list by index position\n",
            "1\n",
            "----------\n",
            "Update the list by index position\n",
            "[9, 2]\n",
            "----------\n",
            "Delete values from the list by index position\n",
            "[2]\n",
            "----------\n",
            "Remove from the tail of the list\n",
            "2\n",
            "[]\n"
          ]
        }
      ],
      "source": [
        "print(\"Create\")\n",
        "mylist = []\n",
        "mylist = [1]\n",
        "\n",
        "print(\"-\"*10)\n",
        "print(\"Add to the end of the list\")\n",
        "mylist.append(2)\n",
        "print(mylist)\n",
        "\n",
        "print(\"-\"*10)\n",
        "print(\"Read the list by index position\")\n",
        "print(mylist[0])\n",
        "\n",
        "print(\"-\"*10)\n",
        "print(\"Update the list by index position\")\n",
        "mylist[0] = 9\n",
        "print(mylist)\n",
        "\n",
        "print(\"-\"*10)\n",
        "print(\"Delete values from the list by index position\")\n",
        "del mylist[0]\n",
        "print(mylist)\n",
        "\n",
        "print(\"-\"*10)\n",
        "print(\"Remove from the tail of the list\")\n",
        "last_element = mylist.pop()\n",
        "print(last_element)\n",
        "print(mylist)"
      ]
    },
    {
      "cell_type": "code",
      "execution_count": 17,
      "metadata": {
        "colab": {
          "base_uri": "https://localhost:8080/"
        },
        "id": "WAMYofagvamm",
        "outputId": "01abe0dc-fdc9-42d7-a49f-c881b4ab9939"
      },
      "outputs": [
        {
          "name": "stdout",
          "output_type": "stream",
          "text": [
            "{'name': 'Ian Chen', 'grade': 90, 'is_passing': True}\n",
            "----------\n",
            "{'name': 'Ian Chen', 'grade': 90, 'is_passing': True, 'school': 'University of Washington'}\n",
            "----------\n",
            "90\n",
            "----------\n",
            "{'name': 'Ian Chen', 'grade': 95, 'is_passing': True, 'school': 'University of Washington'}\n",
            "----------\n",
            "{'name': 'Ian Chen', 'grade': 95, 'school': 'University of Washington'}\n",
            "----------\n",
            "dict_keys(['name', 'grade', 'school'])\n",
            "dict_values(['Ian Chen', 95, 'University of Washington'])\n",
            "dict_items([('name', 'Ian Chen'), ('grade', 95), ('school', 'University of Washington')])\n",
            "----------\n",
            "check if the student record has name key\n",
            "True\n",
            "----------\n",
            "check if the student record has value Univeristy of Washington\n",
            "True\n"
          ]
        }
      ],
      "source": [
        "# Dictionaries\n",
        "student = {\n",
        "    \"name\": \"Ian Chen\",\n",
        "    \"grade\": 90,\n",
        "    \"is_passing\": True\n",
        "}\n",
        "print(student)\n",
        "\n",
        "# Add a new key value in the dictionary\n",
        "# Or adding a new column in the excel spreadsheet\n",
        "student[\"school\"] = \"University of Washington\"\n",
        "print(\"-\"*10)\n",
        "print(student)\n",
        "\n",
        "# Read\n",
        "print(\"-\"*10)\n",
        "print(student[\"grade\"])\n",
        "\n",
        "# Update\n",
        "print(\"-\"*10)\n",
        "student['grade'] = 95\n",
        "print(student)\n",
        "\n",
        "# Delete\n",
        "print(\"-\"*10)\n",
        "del student['is_passing']\n",
        "print(student)\n",
        "\n",
        "# Useful methods\n",
        "print(\"-\"*10)\n",
        "print(student.keys())\n",
        "print(student.values())\n",
        "print(student.items())\n",
        "\n",
        "# Checking membership of key\n",
        "print(\"-\"*10)\n",
        "print(\"check if the student record has name key\")\n",
        "print(\"name\" in student)\n",
        "\n",
        "# Checking membership of value in dictionary\n",
        "print(\"-\"*10)\n",
        "print(\"check if the student record has value Univeristy of Washington\")\n",
        "print(\"University of Washington\" in student.values())"
      ]
    },
    {
      "cell_type": "code",
      "execution_count": 18,
      "metadata": {
        "colab": {
          "base_uri": "https://localhost:8080/"
        },
        "id": "mJUhF5iuxFGE",
        "outputId": "a52f17ad-a6ab-47bd-b224-a7a8cb87326d"
      },
      "outputs": [
        {
          "data": {
            "text/plain": [
              "False"
            ]
          },
          "execution_count": 18,
          "metadata": {},
          "output_type": "execute_result"
        }
      ],
      "source": [
        "\"University of Washington\" in student.items()"
      ]
    },
    {
      "cell_type": "code",
      "execution_count": 20,
      "metadata": {
        "colab": {
          "base_uri": "https://localhost:8080/"
        },
        "id": "ySgL6sezzbr2",
        "outputId": "35886730-522e-41d0-8d24-53f573f7149c"
      },
      "outputs": [
        {
          "data": {
            "text/plain": [
              "[('name', 'Ian Chen'), ('grade', 95), ('school', 'University of Washington')]"
            ]
          },
          "execution_count": 20,
          "metadata": {},
          "output_type": "execute_result"
        }
      ],
      "source": [
        "list(student.items())"
      ]
    },
    {
      "cell_type": "code",
      "execution_count": null,
      "metadata": {
        "id": "xrphc5LTzr5H"
      },
      "outputs": [],
      "source": [
        "# student.items()\n",
        "# commonly used with database drivers with DBAPI 2.0 spec\n",
        "student_items = [\n",
        "    ('name', 'Ian Chen'),\n",
        "    ('grade', 95),\n",
        "    ('school', 'University of Washington'),\n",
        "]"
      ]
    },
    {
      "cell_type": "code",
      "execution_count": 22,
      "metadata": {
        "colab": {
          "base_uri": "https://localhost:8080/"
        },
        "id": "ew3ZjpNmzeP2",
        "outputId": "da27bda2-663b-440c-fe6b-078210753244"
      },
      "outputs": [
        {
          "data": {
            "text/plain": [
              "True"
            ]
          },
          "execution_count": 22,
          "metadata": {},
          "output_type": "execute_result"
        }
      ],
      "source": [
        "('name', 'Ian Chen') in student.items()"
      ]
    },
    {
      "cell_type": "markdown",
      "metadata": {
        "id": "AmbBO2E30pGE"
      },
      "source": [
        "# Boolean"
      ]
    },
    {
      "cell_type": "code",
      "execution_count": 25,
      "metadata": {
        "colab": {
          "base_uri": "https://localhost:8080/"
        },
        "id": "_hLcZYH11BCo",
        "outputId": "0c698ae6-7556-4c7e-818c-dfa3218ee235"
      },
      "outputs": [
        {
          "data": {
            "text/plain": [
              "True"
            ]
          },
          "execution_count": 25,
          "metadata": {},
          "output_type": "execute_result"
        }
      ],
      "source": [
        "True"
      ]
    },
    {
      "cell_type": "code",
      "execution_count": 26,
      "metadata": {
        "colab": {
          "base_uri": "https://localhost:8080/"
        },
        "id": "R-k_SMb-1RlG",
        "outputId": "0aa881ca-f032-4b9e-9fbe-06f2fd213115"
      },
      "outputs": [
        {
          "data": {
            "text/plain": [
              "False"
            ]
          },
          "execution_count": 26,
          "metadata": {},
          "output_type": "execute_result"
        }
      ],
      "source": [
        "False"
      ]
    },
    {
      "cell_type": "code",
      "execution_count": 27,
      "metadata": {
        "colab": {
          "base_uri": "https://localhost:8080/"
        },
        "id": "UiXQlCdc1SQV",
        "outputId": "8a2dddb5-2ff0-44e8-9041-e11e207d5048"
      },
      "outputs": [
        {
          "data": {
            "text/plain": [
              "True"
            ]
          },
          "execution_count": 27,
          "metadata": {},
          "output_type": "execute_result"
        }
      ],
      "source": [
        "1 == 1"
      ]
    },
    {
      "cell_type": "code",
      "execution_count": 28,
      "metadata": {
        "colab": {
          "base_uri": "https://localhost:8080/"
        },
        "id": "oZndpuVb1TwI",
        "outputId": "d810cd11-a2a3-4c50-d52b-54628efdbea1"
      },
      "outputs": [
        {
          "data": {
            "text/plain": [
              "True"
            ]
          },
          "execution_count": 28,
          "metadata": {},
          "output_type": "execute_result"
        }
      ],
      "source": [
        "2 > 1"
      ]
    },
    {
      "cell_type": "code",
      "execution_count": 30,
      "metadata": {
        "colab": {
          "base_uri": "https://localhost:8080/"
        },
        "id": "321soaOM1XHu",
        "outputId": "736cf9c1-2d79-4651-e9d2-331c3e8c996f"
      },
      "outputs": [
        {
          "data": {
            "text/plain": [
              "False"
            ]
          },
          "execution_count": 30,
          "metadata": {},
          "output_type": "execute_result"
        }
      ],
      "source": [
        "4 < 2"
      ]
    },
    {
      "cell_type": "code",
      "execution_count": 31,
      "metadata": {
        "colab": {
          "base_uri": "https://localhost:8080/"
        },
        "id": "yPx5hG-i1X8S",
        "outputId": "86d2f0c9-1672-4907-8965-2dd8ad7b2f35"
      },
      "outputs": [
        {
          "data": {
            "text/plain": [
              "False"
            ]
          },
          "execution_count": 31,
          "metadata": {},
          "output_type": "execute_result"
        }
      ],
      "source": [
        "\"ian\" in [\"techin509\"]"
      ]
    },
    {
      "cell_type": "code",
      "execution_count": 32,
      "metadata": {
        "colab": {
          "base_uri": "https://localhost:8080/"
        },
        "id": "PPFpt2LU1fOV",
        "outputId": "85bd5c20-e06b-45c5-84d3-0e593e6e29fd"
      },
      "outputs": [
        {
          "data": {
            "text/plain": [
              "False"
            ]
          },
          "execution_count": 32,
          "metadata": {},
          "output_type": "execute_result"
        }
      ],
      "source": [
        "not True # !True"
      ]
    },
    {
      "cell_type": "code",
      "execution_count": 33,
      "metadata": {
        "colab": {
          "base_uri": "https://localhost:8080/"
        },
        "id": "xFN2mIrl1in1",
        "outputId": "63f33552-5f28-4e65-9df4-2acc8b390129"
      },
      "outputs": [
        {
          "data": {
            "text/plain": [
              "True"
            ]
          },
          "execution_count": 33,
          "metadata": {},
          "output_type": "execute_result"
        }
      ],
      "source": [
        "True and True"
      ]
    },
    {
      "cell_type": "code",
      "execution_count": 34,
      "metadata": {
        "colab": {
          "base_uri": "https://localhost:8080/"
        },
        "id": "feSTv66G1opP",
        "outputId": "04a4d219-7747-4728-9065-bb23aac833fa"
      },
      "outputs": [
        {
          "data": {
            "text/plain": [
              "False"
            ]
          },
          "execution_count": 34,
          "metadata": {},
          "output_type": "execute_result"
        }
      ],
      "source": [
        "True and False # true && false"
      ]
    },
    {
      "cell_type": "code",
      "execution_count": 35,
      "metadata": {
        "colab": {
          "base_uri": "https://localhost:8080/"
        },
        "id": "E2YasAHN1sg6",
        "outputId": "5a36a915-1e73-4cc9-b886-f9ae0208fc7c"
      },
      "outputs": [
        {
          "data": {
            "text/plain": [
              "True"
            ]
          },
          "execution_count": 35,
          "metadata": {},
          "output_type": "execute_result"
        }
      ],
      "source": [
        "True or False # true || false"
      ]
    },
    {
      "cell_type": "markdown",
      "metadata": {
        "id": "e1LLhp1A1-7k"
      },
      "source": [
        "# if-else"
      ]
    },
    {
      "cell_type": "code",
      "execution_count": 36,
      "metadata": {
        "colab": {
          "base_uri": "https://localhost:8080/"
        },
        "id": "gZj1-clB1_tQ",
        "outputId": "ac2a2d53-e7ef-43d6-cf14-18d338d51a73"
      },
      "outputs": [
        {
          "name": "stdout",
          "output_type": "stream",
          "text": [
            "pass\n"
          ]
        }
      ],
      "source": [
        "grade = 80\n",
        "if grade >= 70:\n",
        "    print(\"pass\")\n",
        "else:\n",
        "    print(\"fail\")"
      ]
    },
    {
      "cell_type": "code",
      "execution_count": 38,
      "metadata": {
        "colab": {
          "base_uri": "https://localhost:8080/"
        },
        "id": "lvJbY0NJ2OFR",
        "outputId": "a14437ef-75d1-423b-cda2-65d035cbe411"
      },
      "outputs": [
        {
          "name": "stdout",
          "output_type": "stream",
          "text": [
            "okay\n"
          ]
        }
      ],
      "source": [
        "grade = 65\n",
        "if grade >= 70:\n",
        "    print(\"great\")\n",
        "elif grade >= 60:\n",
        "    print(\"okay\")\n",
        "else:\n",
        "    print(\"bad\")"
      ]
    },
    {
      "cell_type": "code",
      "execution_count": 40,
      "metadata": {
        "colab": {
          "base_uri": "https://localhost:8080/"
        },
        "id": "YgtPugqE72oP",
        "outputId": "e4ea7ae3-91de-43cc-f168-dcdc6808307d"
      },
      "outputs": [
        {
          "data": {
            "text/plain": [
              "<function dict.keys>"
            ]
          },
          "execution_count": 40,
          "metadata": {},
          "output_type": "execute_result"
        }
      ],
      "source": [
        "mydict = {}\n",
        "mydict.keys()"
      ]
    },
    {
      "cell_type": "code",
      "execution_count": null,
      "metadata": {
        "id": "MgbgSFJy2W6j"
      },
      "outputs": [],
      "source": [
        "# defining variable\n",
        "mylist = []\n",
        "mydict = {}\n",
        "mytuple = () # immutable list\n",
        "myset = set()\n",
        "\n",
        "# call function\n",
        "print()\n",
        "len()\n",
        "mydict.keys()\n",
        "mylist.pop()\n",
        "\n",
        "# delete\n",
        "del mylist[0]\n",
        "del mydict[\"k\"]\n",
        "\n",
        "# (reading/updating) -> indexing\n",
        "mylist[0]\n",
        "mydict[\"k\"]"
      ]
    },
    {
      "cell_type": "markdown",
      "metadata": {
        "id": "rEUWEEIy9wvQ"
      },
      "source": [
        "# Loop"
      ]
    },
    {
      "cell_type": "code",
      "execution_count": null,
      "metadata": {
        "id": "HM7HkAac9vXv"
      },
      "outputs": [],
      "source": [
        "# For loop\n",
        "# While loop"
      ]
    },
    {
      "cell_type": "code",
      "execution_count": null,
      "metadata": {
        "id": "XIc7caof98GK"
      },
      "outputs": [],
      "source": [
        "# JS, Java, C++, Arduino\n",
        "# for (start, end, incre) {\n",
        "#\n",
        "# }"
      ]
    },
    {
      "cell_type": "code",
      "execution_count": 48,
      "metadata": {
        "colab": {
          "base_uri": "https://localhost:8080/"
        },
        "id": "E6b-FLgX-IUP",
        "outputId": "938e3c9f-03ce-4204-873f-7cea796c8eda"
      },
      "outputs": [
        {
          "name": "stdout",
          "output_type": "stream",
          "text": [
            "2\n",
            "4\n",
            "6\n",
            "8\n",
            "10\n",
            "finished processing\n"
          ]
        }
      ],
      "source": [
        "mylist = [1,2,3,4,5]\n",
        "for num in mylist:\n",
        "    print(num*2)\n",
        "print(\"finished processing\")"
      ]
    },
    {
      "cell_type": "code",
      "execution_count": 51,
      "metadata": {
        "colab": {
          "base_uri": "https://localhost:8080/"
        },
        "id": "ZjOekX6P_vt6",
        "outputId": "aeb97284-d785-4582-dc39-e6257a73c37f"
      },
      "outputs": [
        {
          "name": "stdout",
          "output_type": "stream",
          "text": [
            "getting Tayler Swift tickets....\n",
            "getting Tayler Swift tickets....\n",
            "getting Tayler Swift tickets....\n",
            "getting Tayler Swift tickets....\n",
            "getting Tayler Swift tickets....\n"
          ]
        }
      ],
      "source": [
        "# while loop\n",
        "retry_cnt = 0\n",
        "while retry_cnt < 5:\n",
        "    print(\"getting Tayler Swift tickets....\")\n",
        "    # retry_cnt++\n",
        "    retry_cnt += 1 # retry_cnt = retry_cnt + 1"
      ]
    },
    {
      "cell_type": "markdown",
      "metadata": {
        "id": "wuV_KQt1AmpP"
      },
      "source": [
        "# Comprehension"
      ]
    },
    {
      "cell_type": "code",
      "execution_count": 1,
      "metadata": {
        "id": "qDmelJ7__aJw"
      },
      "outputs": [],
      "source": [
        "reviews = {\"feed\":{\"author\":{\"name\":{\"label\":\"iTunes Store\"}, \"uri\":{\"label\":\"http://www.apple.com/itunes/\"}}, \"entry\":[\n",
        "{\"author\":{\"uri\":{\"label\":\"https://itunes.apple.com/us/reviews/id1330696046\"}, \"name\":{\"label\":\"raka1jmj\"}, \"label\":\"\"}, \"updated\":{\"label\":\"2024-10-13T09:17:57-07:00\"}, \"im:rating\":{\"label\":\"1\"}, \"im:version\":{\"label\":\"3.1.6.1\"}, \"id\":{\"label\":\"11829940196\"}, \"title\":{\"label\":\"Review\"}, \"content\":{\"label\":\"I purchased service for a year. Constantly had difficulty with live coverage. If you things when it wants to not when it should. Now the image is hazy not clear. I am not happy with this device.\", \"attributes\":{\"type\":\"text\"}}, \"link\":{\"attributes\":{\"rel\":\"related\", \"href\":\"https://itunes.apple.com/us/review?id=1288415553&type=Purple%20Software\"}}, \"im:voteSum\":{\"label\":\"0\"}, \"im:contentType\":{\"attributes\":{\"term\":\"Application\", \"label\":\"Application\"}}, \"im:voteCount\":{\"label\":\"0\"}},\n",
        "{\"author\":{\"uri\":{\"label\":\"https://itunes.apple.com/us/reviews/id881670316\"}, \"name\":{\"label\":\"2112 Wolf\"}, \"label\":\"\"}, \"updated\":{\"label\":\"2024-10-13T08:30:43-07:00\"}, \"im:rating\":{\"label\":\"1\"}, \"im:version\":{\"label\":\"3.1.6.1\"}, \"id\":{\"label\":\"11829779997\"}, \"title\":{\"label\":\"Poor service\"}, \"content\":{\"label\":\"After using Wyze cams for ten years. And having 8 cameras in and around my house. The latest app update has caused nothing but problems. My wife is disabled and I have to be able to check on her when I am at work. Tech support did not resolve any issues. Connection drops. Won’t connect. Or pixelation. I will be looking at alternatives for the sake of my wife.\", \"attributes\":{\"type\":\"text\"}}, \"link\":{\"attributes\":{\"rel\":\"related\", \"href\":\"https://itunes.apple.com/us/review?id=1288415553&type=Purple%20Software\"}}, \"im:voteSum\":{\"label\":\"0\"}, \"im:contentType\":{\"attributes\":{\"term\":\"Application\", \"label\":\"Application\"}}, \"im:voteCount\":{\"label\":\"0\"}},\n",
        "{\"author\":{\"uri\":{\"label\":\"https://itunes.apple.com/us/reviews/id536734278\"}, \"name\":{\"label\":\"Ktekomodo\"}, \"label\":\"\"}, \"updated\":{\"label\":\"2024-10-13T07:29:39-07:00\"}, \"im:rating\":{\"label\":\"4\"}, \"im:version\":{\"label\":\"3.1.6.1\"}, \"id\":{\"label\":\"11829568710\"}, \"title\":{\"label\":\"Eh!\"}, \"content\":{\"label\":\"The doorbells lag a lot my house is less than 1000 square feet. My internet connection is outstanding. The Wi-Fi has no problem with any other devices in the house and all the way to the garage. I wear hearing aids and the Bluetooth is outstanding I have several devices I can check when there is a notification but by the time I did receive the notification, I am sure it would be that way with other brands. Who knows ding dong\", \"attributes\":{\"type\":\"text\"}}, \"link\":{\"attributes\":{\"rel\":\"related\", \"href\":\"https://itunes.apple.com/us/review?id=1288415553&type=Purple%20Software\"}}, \"im:voteSum\":{\"label\":\"0\"}, \"im:contentType\":{\"attributes\":{\"term\":\"Application\", \"label\":\"Application\"}}, \"im:voteCount\":{\"label\":\"0\"}},\n",
        "{\"author\":{\"uri\":{\"label\":\"https://itunes.apple.com/us/reviews/id217520009\"}, \"name\":{\"label\":\"topherMario33\"}, \"label\":\"\"}, \"updated\":{\"label\":\"2024-10-13T07:10:14-07:00\"}, \"im:rating\":{\"label\":\"3\"}, \"im:version\":{\"label\":\"3.1.6.1\"}, \"id\":{\"label\":\"11829501298\"}, \"title\":{\"label\":\"Buggy new design\"}, \"content\":{\"label\":\"I am a fan of what they are aiming for with the new design but it has made everything buggy. One big in particular plays a random recording in the background even when the app isn’t on screen. I also see a lot more connection errors than before the change. The widgets haven’t been updated to change with dark mode and the shortcuts don’t appear in the order you have them.\", \"attributes\":{\"type\":\"text\"}}, \"link\":{\"attributes\":{\"rel\":\"related\", \"href\":\"https://itunes.apple.com/us/review?id=1288415553&type=Purple%20Software\"}}, \"im:voteSum\":{\"label\":\"0\"}, \"im:contentType\":{\"attributes\":{\"term\":\"Application\", \"label\":\"Application\"}}, \"im:voteCount\":{\"label\":\"0\"}},\n",
        "{\"author\":{\"uri\":{\"label\":\"https://itunes.apple.com/us/reviews/id846769579\"}, \"name\":{\"label\":\"Paratrooper 55\"}, \"label\":\"\"}, \"updated\":{\"label\":\"2024-10-13T06:40:51-07:00\"}, \"im:rating\":{\"label\":\"5\"}, \"im:version\":{\"label\":\"3.1.6.1\"}, \"id\":{\"label\":\"11829399484\"}, \"title\":{\"label\":\"Tiny camera Delivers\"}, \"content\":{\"label\":\"It may be i am just so amazed at how much area is covered and how clear the color usually is...and at a great price! I sound like an ad to myself, but hey, love this security camera from Wyze.\", \"attributes\":{\"type\":\"text\"}}, \"link\":{\"attributes\":{\"rel\":\"related\", \"href\":\"https://itunes.apple.com/us/review?id=1288415553&type=Purple%20Software\"}}, \"im:voteSum\":{\"label\":\"0\"}, \"im:contentType\":{\"attributes\":{\"term\":\"Application\", \"label\":\"Application\"}}, \"im:voteCount\":{\"label\":\"0\"}},\n",
        "{\"author\":{\"uri\":{\"label\":\"https://itunes.apple.com/us/reviews/id742983389\"}, \"name\":{\"label\":\"realdumbgame\"}, \"label\":\"\"}, \"updated\":{\"label\":\"2024-10-13T05:33:05-07:00\"}, \"im:rating\":{\"label\":\"1\"}, \"im:version\":{\"label\":\"3.1.6.1\"}, \"id\":{\"label\":\"11829174930\"}, \"title\":{\"label\":\"No reliability\"}, \"content\":{\"label\":\"Was great years ago, but gone down hill. Never stays connected, no more notifications, almost useless. Pay more for upgrade and still unhappy with it. I gone with other better cams in most areas I had these.\", \"attributes\":{\"type\":\"text\"}}, \"link\":{\"attributes\":{\"rel\":\"related\", \"href\":\"https://itunes.apple.com/us/review?id=1288415553&type=Purple%20Software\"}}, \"im:voteSum\":{\"label\":\"0\"}, \"im:contentType\":{\"attributes\":{\"term\":\"Application\", \"label\":\"Application\"}}, \"im:voteCount\":{\"label\":\"0\"}},\n",
        "{\"author\":{\"uri\":{\"label\":\"https://itunes.apple.com/us/reviews/id42088410\"}, \"name\":{\"label\":\"jessewyatt\"}, \"label\":\"\"}, \"updated\":{\"label\":\"2024-10-13T03:31:58-07:00\"}, \"im:rating\":{\"label\":\"2\"}, \"im:version\":{\"label\":\"3.1.6.1\"}, \"id\":{\"label\":\"11828828189\"}, \"title\":{\"label\":\"Really wish they could incorporate this app into my ultra watch.\"}, \"content\":{\"label\":\"I own 20 devices and a 4 figure watch, not one feature. SMH\", \"attributes\":{\"type\":\"text\"}}, \"link\":{\"attributes\":{\"rel\":\"related\", \"href\":\"https://itunes.apple.com/us/review?id=1288415553&type=Purple%20Software\"}}, \"im:voteSum\":{\"label\":\"0\"}, \"im:contentType\":{\"attributes\":{\"term\":\"Application\", \"label\":\"Application\"}}, \"im:voteCount\":{\"label\":\"0\"}},\n",
        "{\"author\":{\"uri\":{\"label\":\"https://itunes.apple.com/us/reviews/id21695226\"}, \"name\":{\"label\":\"BigSwaaaang\"}, \"label\":\"\"}, \"updated\":{\"label\":\"2024-10-13T00:47:04-07:00\"}, \"im:rating\":{\"label\":\"2\"}, \"im:version\":{\"label\":\"3.1.6.1\"}, \"id\":{\"label\":\"11828415397\"}, \"title\":{\"label\":\"Unreliable products and app buggy\"}, \"content\":{\"label\":\"I’ve bought the smart bulbs, they never save their settings. Stopped using them. Bought their mini hand vac, stopped holding after a year. Threw it out. I do like their robot vac and their outdoor smart plugs, but the NEW app that controls them regularly shows them off when they’re on, or on when they’re off. The schedule works fine on one but not on the other. I have to do everything manually through the app which defeats the purpose of having “smart” plugs. The old app worked fine but for some reason a usability specialist convinced someone that this new version would be more intuitive. It was unnecessary and now buggy.\", \"attributes\":{\"type\":\"text\"}}, \"link\":{\"attributes\":{\"rel\":\"related\", \"href\":\"https://itunes.apple.com/us/review?id=1288415553&type=Purple%20Software\"}}, \"im:voteSum\":{\"label\":\"0\"}, \"im:contentType\":{\"attributes\":{\"term\":\"Application\", \"label\":\"Application\"}}, \"im:voteCount\":{\"label\":\"0\"}},\n",
        "{\"author\":{\"uri\":{\"label\":\"https://itunes.apple.com/us/reviews/id1615499599\"}, \"name\":{\"label\":\"Givjcjciv\"}, \"label\":\"\"}, \"updated\":{\"label\":\"2024-10-12T19:55:15-07:00\"}, \"im:rating\":{\"label\":\"1\"}, \"im:version\":{\"label\":\"3.1.6.1\"}, \"id\":{\"label\":\"11827735856\"}, \"title\":{\"label\":\"Not working\"}, \"content\":{\"label\":\"Not working keep saying is in a offline\", \"attributes\":{\"type\":\"text\"}}, \"link\":{\"attributes\":{\"rel\":\"related\", \"href\":\"https://itunes.apple.com/us/review?id=1288415553&type=Purple%20Software\"}}, \"im:voteSum\":{\"label\":\"0\"}, \"im:contentType\":{\"attributes\":{\"term\":\"Application\", \"label\":\"Application\"}}, \"im:voteCount\":{\"label\":\"0\"}},\n",
        "{\"author\":{\"uri\":{\"label\":\"https://itunes.apple.com/us/reviews/id292140103\"}, \"name\":{\"label\":\"Oh me you know\"}, \"label\":\"\"}, \"updated\":{\"label\":\"2024-10-12T13:48:09-07:00\"}, \"im:rating\":{\"label\":\"1\"}, \"im:version\":{\"label\":\"3.1.6.1\"}, \"id\":{\"label\":\"11826859720\"}, \"title\":{\"label\":\"Latest update ruined the app\"}, \"content\":{\"label\":\"It constantly freezes if viewing live on my 2 cam OGs, and that’s if it even opens live view. It freezes for like a minute or so at a time. Sends notifications late, instead of saying “right now” it will says 3 minutes ago. Why did yall have to ruin it? It was amazing before\", \"attributes\":{\"type\":\"text\"}}, \"link\":{\"attributes\":{\"rel\":\"related\", \"href\":\"https://itunes.apple.com/us/review?id=1288415553&type=Purple%20Software\"}}, \"im:voteSum\":{\"label\":\"0\"}, \"im:contentType\":{\"attributes\":{\"term\":\"Application\", \"label\":\"Application\"}}, \"im:voteCount\":{\"label\":\"0\"}},\n",
        "{\"author\":{\"uri\":{\"label\":\"https://itunes.apple.com/us/reviews/id280831210\"}, \"name\":{\"label\":\"Valuero\"}, \"label\":\"\"}, \"updated\":{\"label\":\"2024-10-12T12:57:43-07:00\"}, \"im:rating\":{\"label\":\"1\"}, \"im:version\":{\"label\":\"3.1.6.1\"}, \"id\":{\"label\":\"11826731234\"}, \"title\":{\"label\":\"Video playback\"}, \"content\":{\"label\":\"Video playback on the app is poor. When you pause the video it restarts from the beginning.\", \"attributes\":{\"type\":\"text\"}}, \"link\":{\"attributes\":{\"rel\":\"related\", \"href\":\"https://itunes.apple.com/us/review?id=1288415553&type=Purple%20Software\"}}, \"im:voteSum\":{\"label\":\"0\"}, \"im:contentType\":{\"attributes\":{\"term\":\"Application\", \"label\":\"Application\"}}, \"im:voteCount\":{\"label\":\"0\"}},\n",
        "{\"author\":{\"uri\":{\"label\":\"https://itunes.apple.com/us/reviews/id291562442\"}, \"name\":{\"label\":\"Lucky-nut\"}, \"label\":\"\"}, \"updated\":{\"label\":\"2024-10-12T06:19:32-07:00\"}, \"im:rating\":{\"label\":\"3\"}, \"im:version\":{\"label\":\"3.1.6.1\"}, \"id\":{\"label\":\"11825443275\"}, \"title\":{\"label\":\"New app not as good\"}, \"content\":{\"label\":\"Although the new app has more updated look to it, I do not like how it makes you wait until picture loads on favorites tab before you can turn the cam off.\", \"attributes\":{\"type\":\"text\"}}, \"link\":{\"attributes\":{\"rel\":\"related\", \"href\":\"https://itunes.apple.com/us/review?id=1288415553&type=Purple%20Software\"}}, \"im:voteSum\":{\"label\":\"0\"}, \"im:contentType\":{\"attributes\":{\"term\":\"Application\", \"label\":\"Application\"}}, \"im:voteCount\":{\"label\":\"0\"}},\n",
        "{\"author\":{\"uri\":{\"label\":\"https://itunes.apple.com/us/reviews/id1257781388\"}, \"name\":{\"label\":\"tony this thing is grate\"}, \"label\":\"\"}, \"updated\":{\"label\":\"2024-10-11T20:42:19-07:00\"}, \"im:rating\":{\"label\":\"4\"}, \"im:version\":{\"label\":\"3.1.6.1\"}, \"id\":{\"label\":\"11824004290\"}, \"title\":{\"label\":\"Very good\"}, \"content\":{\"label\":\"Is grate\", \"attributes\":{\"type\":\"text\"}}, \"link\":{\"attributes\":{\"rel\":\"related\", \"href\":\"https://itunes.apple.com/us/review?id=1288415553&type=Purple%20Software\"}}, \"im:voteSum\":{\"label\":\"0\"}, \"im:contentType\":{\"attributes\":{\"term\":\"Application\", \"label\":\"Application\"}}, \"im:voteCount\":{\"label\":\"0\"}},\n",
        "{\"author\":{\"uri\":{\"label\":\"https://itunes.apple.com/us/reviews/id206335415\"}, \"name\":{\"label\":\"Transformers23\"}, \"label\":\"\"}, \"updated\":{\"label\":\"2024-10-11T15:31:45-07:00\"}, \"im:rating\":{\"label\":\"1\"}, \"im:version\":{\"label\":\"3.1.6.1\"}, \"id\":{\"label\":\"11823273922\"}, \"title\":{\"label\":\"Cheap\"}, \"content\":{\"label\":\"Wyze products are cheap and the app is horrible\", \"attributes\":{\"type\":\"text\"}}, \"link\":{\"attributes\":{\"rel\":\"related\", \"href\":\"https://itunes.apple.com/us/review?id=1288415553&type=Purple%20Software\"}}, \"im:voteSum\":{\"label\":\"0\"}, \"im:contentType\":{\"attributes\":{\"term\":\"Application\", \"label\":\"Application\"}}, \"im:voteCount\":{\"label\":\"0\"}},\n",
        "{\"author\":{\"uri\":{\"label\":\"https://itunes.apple.com/us/reviews/id37551836\"}, \"name\":{\"label\":\"scootermcgee317\"}, \"label\":\"\"}, \"updated\":{\"label\":\"2024-10-11T10:45:31-07:00\"}, \"im:rating\":{\"label\":\"1\"}, \"im:version\":{\"label\":\"3.1.6.1\"}, \"id\":{\"label\":\"11822549415\"}, \"title\":{\"label\":\"Absolute cluster F since the redesign\"}, \"content\":{\"label\":\"The app worked fine until the version 3 redesign. Now it’s a laggy, nearly unusable mess. Ended my subscription and ordered a Lorex bundle. Pricey up front, but the reliability should be a lot better.\", \"attributes\":{\"type\":\"text\"}}, \"link\":{\"attributes\":{\"rel\":\"related\", \"href\":\"https://itunes.apple.com/us/review?id=1288415553&type=Purple%20Software\"}}, \"im:voteSum\":{\"label\":\"0\"}, \"im:contentType\":{\"attributes\":{\"term\":\"Application\", \"label\":\"Application\"}}, \"im:voteCount\":{\"label\":\"0\"}},\n",
        "{\"author\":{\"uri\":{\"label\":\"https://itunes.apple.com/us/reviews/id650989953\"}, \"name\":{\"label\":\"Fort the love of pete\"}, \"label\":\"\"}, \"updated\":{\"label\":\"2024-10-11T10:23:51-07:00\"}, \"im:rating\":{\"label\":\"1\"}, \"im:version\":{\"label\":\"3.1.6.1\"}, \"id\":{\"label\":\"11822486138\"}, \"title\":{\"label\":\"Camera mediocre at best\"}, \"content\":{\"label\":\"I have had Wyze cams for a few years… back before they now try and sell you monthly subscription plans. I always have had micro as cards in them to record to. Now am having difficulty playing back the events that are on the SD card. It prompts me to buy a monthly plan instead. Not happy. A coworker has the same setup as I do but doesn’t have this issue with his. Q\", \"attributes\":{\"type\":\"text\"}}, \"link\":{\"attributes\":{\"rel\":\"related\", \"href\":\"https://itunes.apple.com/us/review?id=1288415553&type=Purple%20Software\"}}, \"im:voteSum\":{\"label\":\"0\"}, \"im:contentType\":{\"attributes\":{\"term\":\"Application\", \"label\":\"Application\"}}, \"im:voteCount\":{\"label\":\"0\"}},\n",
        "{\"author\":{\"uri\":{\"label\":\"https://itunes.apple.com/us/reviews/id27612443\"}, \"name\":{\"label\":\"NW32X\"}, \"label\":\"\"}, \"updated\":{\"label\":\"2024-10-11T06:16:48-07:00\"}, \"im:rating\":{\"label\":\"3\"}, \"im:version\":{\"label\":\"3.1.6.1\"}, \"id\":{\"label\":\"11821694103\"}, \"title\":{\"label\":\"Buggy and unintuitive\"}, \"content\":{\"label\":\"Some parts of the app are easy and obvious to use. Others are not. Some pages respect the system dark/light theme and some don’t. The worst part is that sometimes you get alerts of events but they don’t show up in the app’s event list. Sometimes you click to save a video and get a confirmation that it was saved but it is nowhere to be found in your photo library. Clearly this app needs some serious debugging and quality testing.\", \"attributes\":{\"type\":\"text\"}}, \"link\":{\"attributes\":{\"rel\":\"related\", \"href\":\"https://itunes.apple.com/us/review?id=1288415553&type=Purple%20Software\"}}, \"im:voteSum\":{\"label\":\"0\"}, \"im:contentType\":{\"attributes\":{\"term\":\"Application\", \"label\":\"Application\"}}, \"im:voteCount\":{\"label\":\"0\"}},\n",
        "{\"author\":{\"uri\":{\"label\":\"https://itunes.apple.com/us/reviews/id578333011\"}, \"name\":{\"label\":\"james1994b\"}, \"label\":\"\"}, \"updated\":{\"label\":\"2024-10-11T04:39:15-07:00\"}, \"im:rating\":{\"label\":\"1\"}, \"im:version\":{\"label\":\"3.1.6.1\"}, \"id\":{\"label\":\"11821392808\"}, \"title\":{\"label\":\"Camera never loads when I open app\"}, \"content\":{\"label\":\"Horrible app that won’t connect to the camera\", \"attributes\":{\"type\":\"text\"}}, \"link\":{\"attributes\":{\"rel\":\"related\", \"href\":\"https://itunes.apple.com/us/review?id=1288415553&type=Purple%20Software\"}}, \"im:voteSum\":{\"label\":\"0\"}, \"im:contentType\":{\"attributes\":{\"term\":\"Application\", \"label\":\"Application\"}}, \"im:voteCount\":{\"label\":\"0\"}},\n",
        "{\"author\":{\"uri\":{\"label\":\"https://itunes.apple.com/us/reviews/id547807668\"}, \"name\":{\"label\":\"Jolenena16\"}, \"label\":\"\"}, \"updated\":{\"label\":\"2024-10-11T04:18:26-07:00\"}, \"im:rating\":{\"label\":\"2\"}, \"im:version\":{\"label\":\"3.1.6.1\"}, \"id\":{\"label\":\"11821334566\"}, \"title\":{\"label\":\"Worst update\"}, \"content\":{\"label\":\"I don’t know what happened? But, after that last update. It’s horrible. Go back to the original.\", \"attributes\":{\"type\":\"text\"}}, \"link\":{\"attributes\":{\"rel\":\"related\", \"href\":\"https://itunes.apple.com/us/review?id=1288415553&type=Purple%20Software\"}}, \"im:voteSum\":{\"label\":\"0\"}, \"im:contentType\":{\"attributes\":{\"term\":\"Application\", \"label\":\"Application\"}}, \"im:voteCount\":{\"label\":\"0\"}},\n",
        "{\"author\":{\"uri\":{\"label\":\"https://itunes.apple.com/us/reviews/id419075245\"}, \"name\":{\"label\":\"appmiky\"}, \"label\":\"\"}, \"updated\":{\"label\":\"2024-10-11T00:37:11-07:00\"}, \"im:rating\":{\"label\":\"3\"}, \"im:version\":{\"label\":\"3.1.6.1\"}, \"id\":{\"label\":\"11820837948\"}, \"title\":{\"label\":\"Much improved UI but still incorporates privacy hazards\"}, \"content\":{\"label\":\"Live stream of multiple cameras on one screen is nice. Please get rid of the prominent share video \\\"to improve AI\\\" prompt. It's way too easy to accidentally hit \\\"yes.\\\" as it's right next to delete button. At least provide opt out option to get rid of the prompt for those not using smart detections.\", \"attributes\":{\"type\":\"text\"}}, \"link\":{\"attributes\":{\"rel\":\"related\", \"href\":\"https://itunes.apple.com/us/review?id=1288415553&type=Purple%20Software\"}}, \"im:voteSum\":{\"label\":\"0\"}, \"im:contentType\":{\"attributes\":{\"term\":\"Application\", \"label\":\"Application\"}}, \"im:voteCount\":{\"label\":\"0\"}},\n",
        "{\"author\":{\"uri\":{\"label\":\"https://itunes.apple.com/us/reviews/id135608868\"}, \"name\":{\"label\":\"Mark_Mark\"}, \"label\":\"\"}, \"updated\":{\"label\":\"2024-10-10T20:42:33-07:00\"}, \"im:rating\":{\"label\":\"2\"}, \"im:version\":{\"label\":\"3.1.6.1\"}, \"id\":{\"label\":\"11820371019\"}, \"title\":{\"label\":\"Generally good but problems occasionally\"}, \"content\":{\"label\":\"I have noticed the most recent version of the app continues to play audio from a camera after it has been minimized. Over the last 24 hours, I discovered the app was using inordinate amount of battery, almost 50% in the last 24 hours. Occasionally, I would hear strange sound coming from the phone.. I finally realized that the Wyze app was playing sound from a camera, even though the app was not on screen! I killed the app, deleted and reinstalled it, and the problem went away for now.  Not sure this is trustworthy though, and that remains a big Wyze problem.\", \"attributes\":{\"type\":\"text\"}}, \"link\":{\"attributes\":{\"rel\":\"related\", \"href\":\"https://itunes.apple.com/us/review?id=1288415553&type=Purple%20Software\"}}, \"im:voteSum\":{\"label\":\"0\"}, \"im:contentType\":{\"attributes\":{\"term\":\"Application\", \"label\":\"Application\"}}, \"im:voteCount\":{\"label\":\"0\"}},\n",
        "{\"author\":{\"uri\":{\"label\":\"https://itunes.apple.com/us/reviews/id86028507\"}, \"name\":{\"label\":\"My-two-cents?\"}, \"label\":\"\"}, \"updated\":{\"label\":\"2024-10-10T17:23:00-07:00\"}, \"im:rating\":{\"label\":\"1\"}, \"im:version\":{\"label\":\"3.1.6.1\"}, \"id\":{\"label\":\"11819926958\"}, \"title\":{\"label\":\"Not smart at all\"}, \"content\":{\"label\":\"None of their camera stuff works. They are a Chinese import marketing company, not a tech company by any stretch of imagination. \\nStay away and buy something that actually works.\", \"attributes\":{\"type\":\"text\"}}, \"link\":{\"attributes\":{\"rel\":\"related\", \"href\":\"https://itunes.apple.com/us/review?id=1288415553&type=Purple%20Software\"}}, \"im:voteSum\":{\"label\":\"0\"}, \"im:contentType\":{\"attributes\":{\"term\":\"Application\", \"label\":\"Application\"}}, \"im:voteCount\":{\"label\":\"0\"}},\n",
        "{\"author\":{\"uri\":{\"label\":\"https://itunes.apple.com/us/reviews/id180713497\"}, \"name\":{\"label\":\"Coe-z1\"}, \"label\":\"\"}, \"updated\":{\"label\":\"2024-10-10T15:59:16-07:00\"}, \"im:rating\":{\"label\":\"2\"}, \"im:version\":{\"label\":\"3.1.6.1\"}, \"id\":{\"label\":\"11819740309\"}, \"title\":{\"label\":\"Not Impressed!\"}, \"content\":{\"label\":\"Before I wrote this review I wanted to give it a fair shot.  I bought two cameras and one gave me a hard time to get it to motion detect.  Then after awhile, both of them would go off line (while plugged up).  Then I would have to log back in every time to set them back up.  Now, I can’t see the cameras because they continuously stay off line.  When they work, they’re great. But when they don’t work, it’s frustrating.\", \"attributes\":{\"type\":\"text\"}}, \"link\":{\"attributes\":{\"rel\":\"related\", \"href\":\"https://itunes.apple.com/us/review?id=1288415553&type=Purple%20Software\"}}, \"im:voteSum\":{\"label\":\"0\"}, \"im:contentType\":{\"attributes\":{\"term\":\"Application\", \"label\":\"Application\"}}, \"im:voteCount\":{\"label\":\"0\"}},\n",
        "{\"author\":{\"uri\":{\"label\":\"https://itunes.apple.com/us/reviews/id1143038286\"}, \"name\":{\"label\":\"dsaffo\"}, \"label\":\"\"}, \"updated\":{\"label\":\"2024-10-10T15:51:07-07:00\"}, \"im:rating\":{\"label\":\"1\"}, \"im:version\":{\"label\":\"3.1.6.1\"}, \"id\":{\"label\":\"11819722229\"}, \"title\":{\"label\":\"Doesn’t work on mobile networks\"}, \"content\":{\"label\":\"The whole point of having this is to check on my home while away. Seems almost useless.\", \"attributes\":{\"type\":\"text\"}}, \"link\":{\"attributes\":{\"rel\":\"related\", \"href\":\"https://itunes.apple.com/us/review?id=1288415553&type=Purple%20Software\"}}, \"im:voteSum\":{\"label\":\"0\"}, \"im:contentType\":{\"attributes\":{\"term\":\"Application\", \"label\":\"Application\"}}, \"im:voteCount\":{\"label\":\"0\"}},\n",
        "{\"author\":{\"uri\":{\"label\":\"https://itunes.apple.com/us/reviews/id118481889\"}, \"name\":{\"label\":\"Mom2sage\"}, \"label\":\"\"}, \"updated\":{\"label\":\"2024-10-10T14:33:03-07:00\"}, \"im:rating\":{\"label\":\"3\"}, \"im:version\":{\"label\":\"3.1.6.1\"}, \"id\":{\"label\":\"11819548399\"}, \"title\":{\"label\":\"Bad video\"}, \"content\":{\"label\":\"Initially camera worked great. Last 6 months or so the video quality is terrible. It might start off ok but then goes white or it starts off ok then gets multicolored lines through it making it impossible to see the video. \\nI have submitted the videos and never had any improvement\", \"attributes\":{\"type\":\"text\"}}, \"link\":{\"attributes\":{\"rel\":\"related\", \"href\":\"https://itunes.apple.com/us/review?id=1288415553&type=Purple%20Software\"}}, \"im:voteSum\":{\"label\":\"0\"}, \"im:contentType\":{\"attributes\":{\"term\":\"Application\", \"label\":\"Application\"}}, \"im:voteCount\":{\"label\":\"0\"}},\n",
        "{\"author\":{\"uri\":{\"label\":\"https://itunes.apple.com/us/reviews/id877230454\"}, \"name\":{\"label\":\"Italyan lady\"}, \"label\":\"\"}, \"updated\":{\"label\":\"2024-10-10T12:57:00-07:00\"}, \"im:rating\":{\"label\":\"5\"}, \"im:version\":{\"label\":\"3.1.6.1\"}, \"id\":{\"label\":\"11819319372\"}, \"title\":{\"label\":\"Review\"}, \"content\":{\"label\":\"Great camera\", \"attributes\":{\"type\":\"text\"}}, \"link\":{\"attributes\":{\"rel\":\"related\", \"href\":\"https://itunes.apple.com/us/review?id=1288415553&type=Purple%20Software\"}}, \"im:voteSum\":{\"label\":\"0\"}, \"im:contentType\":{\"attributes\":{\"term\":\"Application\", \"label\":\"Application\"}}, \"im:voteCount\":{\"label\":\"0\"}},\n",
        "{\"author\":{\"uri\":{\"label\":\"https://itunes.apple.com/us/reviews/id674274451\"}, \"name\":{\"label\":\"Surikadon\"}, \"label\":\"\"}, \"updated\":{\"label\":\"2024-10-10T08:42:11-07:00\"}, \"im:rating\":{\"label\":\"2\"}, \"im:version\":{\"label\":\"3.1.6.1\"}, \"id\":{\"label\":\"11818601537\"}, \"title\":{\"label\":\"App is too slow\"}, \"content\":{\"label\":\"Why are no bug fixes there are lot of delays with app\", \"attributes\":{\"type\":\"text\"}}, \"link\":{\"attributes\":{\"rel\":\"related\", \"href\":\"https://itunes.apple.com/us/review?id=1288415553&type=Purple%20Software\"}}, \"im:voteSum\":{\"label\":\"0\"}, \"im:contentType\":{\"attributes\":{\"term\":\"Application\", \"label\":\"Application\"}}, \"im:voteCount\":{\"label\":\"0\"}},\n",
        "{\"author\":{\"uri\":{\"label\":\"https://itunes.apple.com/us/reviews/id682444447\"}, \"name\":{\"label\":\"weeeeeeeeeeeman\"}, \"label\":\"\"}, \"updated\":{\"label\":\"2024-10-10T07:50:36-07:00\"}, \"im:rating\":{\"label\":\"5\"}, \"im:version\":{\"label\":\"3.1.6.1\"}, \"id\":{\"label\":\"11818438349\"}, \"title\":{\"label\":\"Pic\"}, \"content\":{\"label\":\"Love taking pictures\", \"attributes\":{\"type\":\"text\"}}, \"link\":{\"attributes\":{\"rel\":\"related\", \"href\":\"https://itunes.apple.com/us/review?id=1288415553&type=Purple%20Software\"}}, \"im:voteSum\":{\"label\":\"0\"}, \"im:contentType\":{\"attributes\":{\"term\":\"Application\", \"label\":\"Application\"}}, \"im:voteCount\":{\"label\":\"0\"}},\n",
        "{\"author\":{\"uri\":{\"label\":\"https://itunes.apple.com/us/reviews/id330141534\"}, \"name\":{\"label\":\"Delmylamagnifica\"}, \"label\":\"\"}, \"updated\":{\"label\":\"2024-10-10T03:42:10-07:00\"}, \"im:rating\":{\"label\":\"1\"}, \"im:version\":{\"label\":\"3.1.6.1\"}, \"id\":{\"label\":\"11817689902\"}, \"title\":{\"label\":\"It is not working the app\"}, \"content\":{\"label\":\"No good\", \"attributes\":{\"type\":\"text\"}}, \"link\":{\"attributes\":{\"rel\":\"related\", \"href\":\"https://itunes.apple.com/us/review?id=1288415553&type=Purple%20Software\"}}, \"im:voteSum\":{\"label\":\"0\"}, \"im:contentType\":{\"attributes\":{\"term\":\"Application\", \"label\":\"Application\"}}, \"im:voteCount\":{\"label\":\"0\"}},\n",
        "{\"author\":{\"uri\":{\"label\":\"https://itunes.apple.com/us/reviews/id197559767\"}, \"name\":{\"label\":\"Savleeaus\"}, \"label\":\"\"}, \"updated\":{\"label\":\"2024-10-10T01:04:19-07:00\"}, \"im:rating\":{\"label\":\"2\"}, \"im:version\":{\"label\":\"3.1.6.1\"}, \"id\":{\"label\":\"11817341870\"}, \"title\":{\"label\":\"App makeover needs work\"}, \"content\":{\"label\":\"Ever since they redesigned the app the connectivity is HORRIBLE. Frequent lagging/troubleshooting when trying to view any camera. I dislike the live view feature when you first open the app as that is horribly laggy as well. Internet speed is not the issue.\", \"attributes\":{\"type\":\"text\"}}, \"link\":{\"attributes\":{\"rel\":\"related\", \"href\":\"https://itunes.apple.com/us/review?id=1288415553&type=Purple%20Software\"}}, \"im:voteSum\":{\"label\":\"0\"}, \"im:contentType\":{\"attributes\":{\"term\":\"Application\", \"label\":\"Application\"}}, \"im:voteCount\":{\"label\":\"0\"}},\n",
        "{\"author\":{\"uri\":{\"label\":\"https://itunes.apple.com/us/reviews/id173430612\"}, \"name\":{\"label\":\"Seed10601\"}, \"label\":\"\"}, \"updated\":{\"label\":\"2024-10-09T17:10:55-07:00\"}, \"im:rating\":{\"label\":\"2\"}, \"im:version\":{\"label\":\"3.1.6.1\"}, \"id\":{\"label\":\"11816348030\"}, \"title\":{\"label\":\"Too munch maintenance required\"}, \"content\":{\"label\":\"Offline too often, the pan V3 does not work properly\", \"attributes\":{\"type\":\"text\"}}, \"link\":{\"attributes\":{\"rel\":\"related\", \"href\":\"https://itunes.apple.com/us/review?id=1288415553&type=Purple%20Software\"}}, \"im:voteSum\":{\"label\":\"0\"}, \"im:contentType\":{\"attributes\":{\"term\":\"Application\", \"label\":\"Application\"}}, \"im:voteCount\":{\"label\":\"0\"}},\n",
        "{\"author\":{\"uri\":{\"label\":\"https://itunes.apple.com/us/reviews/id140917077\"}, \"name\":{\"label\":\"Great but not for everybody\"}, \"label\":\"\"}, \"updated\":{\"label\":\"2024-10-09T16:34:35-07:00\"}, \"im:rating\":{\"label\":\"1\"}, \"im:version\":{\"label\":\"3.1.6.1\"}, \"id\":{\"label\":\"11816268546\"}, \"title\":{\"label\":\"They spam you\"}, \"content\":{\"label\":\"If you have their app, you will get spam adds all of the time that you can’t stop.\", \"attributes\":{\"type\":\"text\"}}, \"link\":{\"attributes\":{\"rel\":\"related\", \"href\":\"https://itunes.apple.com/us/review?id=1288415553&type=Purple%20Software\"}}, \"im:voteSum\":{\"label\":\"0\"}, \"im:contentType\":{\"attributes\":{\"term\":\"Application\", \"label\":\"Application\"}}, \"im:voteCount\":{\"label\":\"0\"}},\n",
        "{\"author\":{\"uri\":{\"label\":\"https://itunes.apple.com/us/reviews/id1224247518\"}, \"name\":{\"label\":\"wide foot 13\"}, \"label\":\"\"}, \"updated\":{\"label\":\"2024-10-09T11:32:56-07:00\"}, \"im:rating\":{\"label\":\"1\"}, \"im:version\":{\"label\":\"3.1.6.1\"}, \"id\":{\"label\":\"11815556915\"}, \"title\":{\"label\":\"Server Failure\"}, \"content\":{\"label\":\"I can’t view any past videos or live events it’s said it failed to upload so the camera is useless and only useful as a doorbell\", \"attributes\":{\"type\":\"text\"}}, \"link\":{\"attributes\":{\"rel\":\"related\", \"href\":\"https://itunes.apple.com/us/review?id=1288415553&type=Purple%20Software\"}}, \"im:voteSum\":{\"label\":\"0\"}, \"im:contentType\":{\"attributes\":{\"term\":\"Application\", \"label\":\"Application\"}}, \"im:voteCount\":{\"label\":\"0\"}},\n",
        "{\"author\":{\"uri\":{\"label\":\"https://itunes.apple.com/us/reviews/id20497364\"}, \"name\":{\"label\":\"CvillePete\"}, \"label\":\"\"}, \"updated\":{\"label\":\"2024-10-09T11:20:26-07:00\"}, \"im:rating\":{\"label\":\"5\"}, \"im:version\":{\"label\":\"3.1.6.1\"}, \"id\":{\"label\":\"11815523019\"}, \"title\":{\"label\":\"Reliable but you have to wade through offers\"}, \"content\":{\"label\":\"I am enjoying the app. I think it is reliable and mostly intuitive. You cannot change WiFi network on the fly but there is a work-around for that. I don’t like seeing all of the flash deals and sale offers that pop up sometimes. It had been fairly infrequent - I only recall one here or there - but over the past month I have had to click through five ads or offers. Doesn’t seem like a lot but I use my app from a security point-of-view which means I need to see what is happening _now_, not after I click through more offers. I also get bombarded with ads via email. Please reduce to 1 per month and go easy on your users. We can only consume so much stuff. I have doubled my ownership over the past month as well. It is merely a coincidence. I began shopping for more things because we had an incident. Personally, I think I am buying because of my need and not because I’m blasted with ads. Some may argue differently. Who really knows?  I think this company might end up nickel-and-diming me to death because I just keep adding things to my service. They need to offer a retirement planner for us to use to see how much longer until we retire based on how much money I am spending with the company.  If they could package it up somehow and slap a camera on it I’d buy it.\", \"attributes\":{\"type\":\"text\"}}, \"link\":{\"attributes\":{\"rel\":\"related\", \"href\":\"https://itunes.apple.com/us/review?id=1288415553&type=Purple%20Software\"}}, \"im:voteSum\":{\"label\":\"0\"}, \"im:contentType\":{\"attributes\":{\"term\":\"Application\", \"label\":\"Application\"}}, \"im:voteCount\":{\"label\":\"0\"}},\n",
        "{\"author\":{\"uri\":{\"label\":\"https://itunes.apple.com/us/reviews/id1098211494\"}, \"name\":{\"label\":\"kathyriveruh\"}, \"label\":\"\"}, \"updated\":{\"label\":\"2024-10-09T10:42:22-07:00\"}, \"im:rating\":{\"label\":\"3\"}, \"im:version\":{\"label\":\"3.1.6.1\"}, \"id\":{\"label\":\"11815416594\"}, \"title\":{\"label\":\"Love hate\"}, \"content\":{\"label\":\"I love hate it we bought 2 cameras and it used to be a perfect for us to use but lately the camera has been giving us a error when we try to look at live we have to constantly turn it off or restart in order for it to work. At time we aren’t home and it say we check in to see the live and it does load I have to put turn on privacy and turn it off. Now it doesn’t even let me use microphone the either .if they could fix this I’d love it\", \"attributes\":{\"type\":\"text\"}}, \"link\":{\"attributes\":{\"rel\":\"related\", \"href\":\"https://itunes.apple.com/us/review?id=1288415553&type=Purple%20Software\"}}, \"im:voteSum\":{\"label\":\"0\"}, \"im:contentType\":{\"attributes\":{\"term\":\"Application\", \"label\":\"Application\"}}, \"im:voteCount\":{\"label\":\"0\"}},\n",
        "{\"author\":{\"uri\":{\"label\":\"https://itunes.apple.com/us/reviews/id87552853\"}, \"name\":{\"label\":\"Cjb1384\"}, \"label\":\"\"}, \"updated\":{\"label\":\"2024-10-09T07:23:50-07:00\"}, \"im:rating\":{\"label\":\"1\"}, \"im:version\":{\"label\":\"3.1.6.1\"}, \"id\":{\"label\":\"11814805805\"}, \"title\":{\"label\":\"Used to be great\"}, \"content\":{\"label\":\"Of my 5 Wyze cameras only 2 work fairly consistently. The others, which are on the same network as the 2 that work and are equally distant from the router as the working 2, always go off line. The message I receive is “unplug and plug in your camera”. That would be easy if I was always home to do it.  But, I wouldn’t need the cameras if I was always home. I also have Blink cameras elsewhere that always work so I will now spend the money and replace all my Wyze cameras with Blink.  Sorry Wyze, you used to be great!\", \"attributes\":{\"type\":\"text\"}}, \"link\":{\"attributes\":{\"rel\":\"related\", \"href\":\"https://itunes.apple.com/us/review?id=1288415553&type=Purple%20Software\"}}, \"im:voteSum\":{\"label\":\"0\"}, \"im:contentType\":{\"attributes\":{\"term\":\"Application\", \"label\":\"Application\"}}, \"im:voteCount\":{\"label\":\"0\"}},\n",
        "{\"author\":{\"uri\":{\"label\":\"https://itunes.apple.com/us/reviews/id265389403\"}, \"name\":{\"label\":\"Ahavati 1\"}, \"label\":\"\"}, \"updated\":{\"label\":\"2024-10-09T04:52:07-07:00\"}, \"im:rating\":{\"label\":\"1\"}, \"im:version\":{\"label\":\"3.1.6.1\"}, \"id\":{\"label\":\"11814333475\"}, \"title\":{\"label\":\"Cameras don’t last long\"}, \"content\":{\"label\":\"They don’t last long. Take for ever to do any updates. Often show as not online and have to be rebooted. A real pain and inconvenience when needing security for a home that you are not present to reboot.\", \"attributes\":{\"type\":\"text\"}}, \"link\":{\"attributes\":{\"rel\":\"related\", \"href\":\"https://itunes.apple.com/us/review?id=1288415553&type=Purple%20Software\"}}, \"im:voteSum\":{\"label\":\"0\"}, \"im:contentType\":{\"attributes\":{\"term\":\"Application\", \"label\":\"Application\"}}, \"im:voteCount\":{\"label\":\"0\"}},\n",
        "{\"author\":{\"uri\":{\"label\":\"https://itunes.apple.com/us/reviews/id1220696022\"}, \"name\":{\"label\":\"rhett.trappman\"}, \"label\":\"\"}, \"updated\":{\"label\":\"2024-10-09T04:45:36-07:00\"}, \"im:rating\":{\"label\":\"2\"}, \"im:version\":{\"label\":\"3.1.6.1\"}, \"id\":{\"label\":\"11814314481\"}, \"title\":{\"label\":\"Issue With Subscription From App Store\"}, \"content\":{\"label\":\"The active subscription I have in the App Store isn’t reflected on my account in the web page or the app.\", \"attributes\":{\"type\":\"text\"}}, \"link\":{\"attributes\":{\"rel\":\"related\", \"href\":\"https://itunes.apple.com/us/review?id=1288415553&type=Purple%20Software\"}}, \"im:voteSum\":{\"label\":\"0\"}, \"im:contentType\":{\"attributes\":{\"term\":\"Application\", \"label\":\"Application\"}}, \"im:voteCount\":{\"label\":\"0\"}},\n",
        "{\"author\":{\"uri\":{\"label\":\"https://itunes.apple.com/us/reviews/id447502700\"}, \"name\":{\"label\":\"Hinch57\"}, \"label\":\"\"}, \"updated\":{\"label\":\"2024-10-09T01:10:41-07:00\"}, \"im:rating\":{\"label\":\"1\"}, \"im:version\":{\"label\":\"3.1.6.1\"}, \"id\":{\"label\":\"11813815319\"}, \"title\":{\"label\":\"If it ain't broke…\"}, \"content\":{\"label\":\"Your last update destroyed the app! Hangups, glitches, screen delays etc, etc. Was this update for bug fixes or bug installs?!\", \"attributes\":{\"type\":\"text\"}}, \"link\":{\"attributes\":{\"rel\":\"related\", \"href\":\"https://itunes.apple.com/us/review?id=1288415553&type=Purple%20Software\"}}, \"im:voteSum\":{\"label\":\"0\"}, \"im:contentType\":{\"attributes\":{\"term\":\"Application\", \"label\":\"Application\"}}, \"im:voteCount\":{\"label\":\"0\"}},\n",
        "{\"author\":{\"uri\":{\"label\":\"https://itunes.apple.com/us/reviews/id437523286\"}, \"name\":{\"label\":\"yikbgg\"}, \"label\":\"\"}, \"updated\":{\"label\":\"2024-10-08T22:00:25-07:00\"}, \"im:rating\":{\"label\":\"2\"}, \"im:version\":{\"label\":\"3.1.6.1\"}, \"id\":{\"label\":\"11813439311\"}, \"title\":{\"label\":\"Not very transparent pricing\"}, \"content\":{\"label\":\"Just got an email that my subscription was renewing, but it had no indication of how much it was or how I could manage said plan. Went to the app, dug the subscription out of the menu options, hit manage—and was told I couldn’t manage it in the app, but not directed to WHERE on the site I could manage it (or even how much it was, which was what I actually wanted to know). The website menu didn’t match the app menu so it took time to figure out where to see the subscription there. I just want to know what I’m paying and be able to easily decide whether I want to keep paying it; that shouldn’t take this many steps!\", \"attributes\":{\"type\":\"text\"}}, \"link\":{\"attributes\":{\"rel\":\"related\", \"href\":\"https://itunes.apple.com/us/review?id=1288415553&type=Purple%20Software\"}}, \"im:voteSum\":{\"label\":\"0\"}, \"im:contentType\":{\"attributes\":{\"term\":\"Application\", \"label\":\"Application\"}}, \"im:voteCount\":{\"label\":\"0\"}},\n",
        "{\"author\":{\"uri\":{\"label\":\"https://itunes.apple.com/us/reviews/id1049801873\"}, \"name\":{\"label\":\"AMD_RAW\"}, \"label\":\"\"}, \"updated\":{\"label\":\"2024-10-08T18:04:36-07:00\"}, \"im:rating\":{\"label\":\"1\"}, \"im:version\":{\"label\":\"3.1.6.1\"}, \"id\":{\"label\":\"11812906760\"}, \"title\":{\"label\":\"Hands down the biggest waste of money I’ve ever spent\"}, \"content\":{\"label\":\"Do not waste your money on this product. It NEVER works. Doesn’t ever record anything. Takes forever to load. You will go DAYS without one single event recorded if you don’t reboot the system and app every. single. day - multiple times a day. Absolutely terrible. \\n\\nI just purchased some ring cameras. hopefully I have a better outcome with those.\", \"attributes\":{\"type\":\"text\"}}, \"link\":{\"attributes\":{\"rel\":\"related\", \"href\":\"https://itunes.apple.com/us/review?id=1288415553&type=Purple%20Software\"}}, \"im:voteSum\":{\"label\":\"0\"}, \"im:contentType\":{\"attributes\":{\"term\":\"Application\", \"label\":\"Application\"}}, \"im:voteCount\":{\"label\":\"0\"}},\n",
        "{\"author\":{\"uri\":{\"label\":\"https://itunes.apple.com/us/reviews/id42334554\"}, \"name\":{\"label\":\"fryguyslim\"}, \"label\":\"\"}, \"updated\":{\"label\":\"2024-10-08T15:19:10-07:00\"}, \"im:rating\":{\"label\":\"1\"}, \"im:version\":{\"label\":\"3.1.6.1\"}, \"id\":{\"label\":\"11812530299\"}, \"title\":{\"label\":\"IOS 18 not working\"}, \"content\":{\"label\":\"Pancam V3 not working on IOS 18 please update!\", \"attributes\":{\"type\":\"text\"}}, \"link\":{\"attributes\":{\"rel\":\"related\", \"href\":\"https://itunes.apple.com/us/review?id=1288415553&type=Purple%20Software\"}}, \"im:voteSum\":{\"label\":\"0\"}, \"im:contentType\":{\"attributes\":{\"term\":\"Application\", \"label\":\"Application\"}}, \"im:voteCount\":{\"label\":\"0\"}},\n",
        "{\"author\":{\"uri\":{\"label\":\"https://itunes.apple.com/us/reviews/id551722569\"}, \"name\":{\"label\":\"RebelRogers420\"}, \"label\":\"\"}, \"updated\":{\"label\":\"2024-10-08T14:48:24-07:00\"}, \"im:rating\":{\"label\":\"1\"}, \"im:version\":{\"label\":\"3.1.6.1\"}, \"id\":{\"label\":\"11812463722\"}, \"title\":{\"label\":\"Trash\"}, \"content\":{\"label\":\"Wyze is having my review removed, I assume because they don’t want people to know that you don’t get what you pay for. You don’t get five minute recordings even when you pay and most of the time you get an error when you attempt to watch previous recordings. I have home monitoring and can’t set my alarm from my phone or my keypad. Customer service doesn’t know how to fix anything. They trouble shoot which is the same thing you’d do before you contact them. I foolishly gave them another $13 for monitoring and of course it’s not working. You’re not going to get a credit for any of the inconvenience or for lack of service. Customer service is impossible to reach! I’d recommend simply safe or ring before I recommend this company. They’re clearly only about the money and don’t care if you have service or not after paying. To see the real reviews just click on the option to see more critical reviews …the five stars are most likely bots or paid. If they weren’t paying for five star reviews they’d definitely have like a two or three if that.\", \"attributes\":{\"type\":\"text\"}}, \"link\":{\"attributes\":{\"rel\":\"related\", \"href\":\"https://itunes.apple.com/us/review?id=1288415553&type=Purple%20Software\"}}, \"im:voteSum\":{\"label\":\"0\"}, \"im:contentType\":{\"attributes\":{\"term\":\"Application\", \"label\":\"Application\"}}, \"im:voteCount\":{\"label\":\"0\"}},\n",
        "{\"author\":{\"uri\":{\"label\":\"https://itunes.apple.com/us/reviews/id865901332\"}, \"name\":{\"label\":\"Camera review 1\"}, \"label\":\"\"}, \"updated\":{\"label\":\"2024-10-08T13:52:08-07:00\"}, \"im:rating\":{\"label\":\"3\"}, \"im:version\":{\"label\":\"3.1.6.1\"}, \"id\":{\"label\":\"11812336540\"}, \"title\":{\"label\":\"Connection problem\"}, \"content\":{\"label\":\"The app freezes alot and connection problems\", \"attributes\":{\"type\":\"text\"}}, \"link\":{\"attributes\":{\"rel\":\"related\", \"href\":\"https://itunes.apple.com/us/review?id=1288415553&type=Purple%20Software\"}}, \"im:voteSum\":{\"label\":\"0\"}, \"im:contentType\":{\"attributes\":{\"term\":\"Application\", \"label\":\"Application\"}}, \"im:voteCount\":{\"label\":\"0\"}},\n",
        "{\"author\":{\"uri\":{\"label\":\"https://itunes.apple.com/us/reviews/id1254176854\"}, \"name\":{\"label\":\"TheAverageJoeReview\"}, \"label\":\"\"}, \"updated\":{\"label\":\"2024-10-08T13:39:22-07:00\"}, \"im:rating\":{\"label\":\"2\"}, \"im:version\":{\"label\":\"3.1.6.1\"}, \"id\":{\"label\":\"11812306758\"}, \"title\":{\"label\":\"Hardware is good, Software is Lacking\"}, \"content\":{\"label\":\"The hardware for the cameras is impressive for the price, but the software is severely lacking.\\n\\nThe cameras rarely load on the first try. It often gets stuck on step 1 of 3. When this happens I have to restart the app and try again.\\n\\nI can’t believe after all these years you still cannot share the playback feature for the cameras to anyone. Only the primary account holder can use the playback feature, even if other users are given full access.\\n\\nThe user interface is jumpy. Shortcuts will often load in a couple seconds after the main app, resulting in the UI jumping last second and often causing the wrong camera to be pressed. Super annoying when you are quickly trying to view an event.\\n\\nEvents in the newer cameras were replaced with a screenshot instead of a short clip.\\n\\nThe settings page is a bright white even after changing the app to dark mode. It took years for dark mode to be released in the app and it still feels like it isn’t done.\\n\\nOverall, I have enjoyed Wyze for the last 5 years, but it feels like the software is falling behind and they are focusing on more hardware upgrades rather than the software.\", \"attributes\":{\"type\":\"text\"}}, \"link\":{\"attributes\":{\"rel\":\"related\", \"href\":\"https://itunes.apple.com/us/review?id=1288415553&type=Purple%20Software\"}}, \"im:voteSum\":{\"label\":\"0\"}, \"im:contentType\":{\"attributes\":{\"term\":\"Application\", \"label\":\"Application\"}}, \"im:voteCount\":{\"label\":\"0\"}},\n",
        "{\"author\":{\"uri\":{\"label\":\"https://itunes.apple.com/us/reviews/id1336811346\"}, \"name\":{\"label\":\"nicholloop\"}, \"label\":\"\"}, \"updated\":{\"label\":\"2024-10-08T13:31:36-07:00\"}, \"im:rating\":{\"label\":\"2\"}, \"im:version\":{\"label\":\"3.1.6.1\"}, \"id\":{\"label\":\"11812288162\"}, \"title\":{\"label\":\"Used to be good\"}, \"content\":{\"label\":\"Now they want to charge you $15 for stuff that used to cost three dollars\", \"attributes\":{\"type\":\"text\"}}, \"link\":{\"attributes\":{\"rel\":\"related\", \"href\":\"https://itunes.apple.com/us/review?id=1288415553&type=Purple%20Software\"}}, \"im:voteSum\":{\"label\":\"0\"}, \"im:contentType\":{\"attributes\":{\"term\":\"Application\", \"label\":\"Application\"}}, \"im:voteCount\":{\"label\":\"0\"}},\n",
        "{\"author\":{\"uri\":{\"label\":\"https://itunes.apple.com/us/reviews/id1357727288\"}, \"name\":{\"label\":\"Mac1000$\"}, \"label\":\"\"}, \"updated\":{\"label\":\"2024-10-08T12:49:24-07:00\"}, \"im:rating\":{\"label\":\"5\"}, \"im:version\":{\"label\":\"3.1.6.1\"}, \"id\":{\"label\":\"11812184338\"}, \"title\":{\"label\":\"I’m loving It\"}, \"content\":{\"label\":\"This is by far the best product I done ever owned. IT’s everything and some.\", \"attributes\":{\"type\":\"text\"}}, \"link\":{\"attributes\":{\"rel\":\"related\", \"href\":\"https://itunes.apple.com/us/review?id=1288415553&type=Purple%20Software\"}}, \"im:voteSum\":{\"label\":\"0\"}, \"im:contentType\":{\"attributes\":{\"term\":\"Application\", \"label\":\"Application\"}}, \"im:voteCount\":{\"label\":\"0\"}},\n",
        "{\"author\":{\"uri\":{\"label\":\"https://itunes.apple.com/us/reviews/id313648954\"}, \"name\":{\"label\":\"Txdave210\"}, \"label\":\"\"}, \"updated\":{\"label\":\"2024-10-08T10:46:02-07:00\"}, \"im:rating\":{\"label\":\"1\"}, \"im:version\":{\"label\":\"3.1.6.1\"}, \"id\":{\"label\":\"11811857144\"}, \"title\":{\"label\":\"Wyze camera\"}, \"content\":{\"label\":\"The camera is unclear . All red .\", \"attributes\":{\"type\":\"text\"}}, \"link\":{\"attributes\":{\"rel\":\"related\", \"href\":\"https://itunes.apple.com/us/review?id=1288415553&type=Purple%20Software\"}}, \"im:voteSum\":{\"label\":\"0\"}, \"im:contentType\":{\"attributes\":{\"term\":\"Application\", \"label\":\"Application\"}}, \"im:voteCount\":{\"label\":\"0\"}},\n",
        "{\"author\":{\"uri\":{\"label\":\"https://itunes.apple.com/us/reviews/id1235093559\"}, \"name\":{\"label\":\"zdfhrueocnd\"}, \"label\":\"\"}, \"updated\":{\"label\":\"2024-10-08T09:18:34-07:00\"}, \"im:rating\":{\"label\":\"2\"}, \"im:version\":{\"label\":\"3.1.6.1\"}, \"id\":{\"label\":\"11811604184\"}, \"title\":{\"label\":\"pleased, for a while\"}, \"content\":{\"label\":\"For 5 years, the app and cameras worked well. Now, the livestream functionality no like ger works when I'm at home on the same wifi network as the cameras.  The event recording does still seem to work.\\n\\nUPDATE: After a week of not working, it started working again, so I am changing my rating.\\n\\nUPDATE 2: Livestream functionality has stopped working again. It may be time for me to switch to a different brand of cameras.\", \"attributes\":{\"type\":\"text\"}}, \"link\":{\"attributes\":{\"rel\":\"related\", \"href\":\"https://itunes.apple.com/us/review?id=1288415553&type=Purple%20Software\"}}, \"im:voteSum\":{\"label\":\"0\"}, \"im:contentType\":{\"attributes\":{\"term\":\"Application\", \"label\":\"Application\"}}, \"im:voteCount\":{\"label\":\"0\"}},\n",
        "{\"author\":{\"uri\":{\"label\":\"https://itunes.apple.com/us/reviews/id13532414\"}, \"name\":{\"label\":\"4Puckersunite!\"}, \"label\":\"\"}, \"updated\":{\"label\":\"2024-10-08T08:07:47-07:00\"}, \"im:rating\":{\"label\":\"2\"}, \"im:version\":{\"label\":\"3.1.6.1\"}, \"id\":{\"label\":\"11811384076\"}, \"title\":{\"label\":\"Wacky\"}, \"content\":{\"label\":\"I like the style and size but the controls don’t work on the app. I can’t turn them off, they come up with setting changes I didn’t make. I really would like to see a decent camera with a decent software suite come down the pile. Someday.\", \"attributes\":{\"type\":\"text\"}}, \"link\":{\"attributes\":{\"rel\":\"related\", \"href\":\"https://itunes.apple.com/us/review?id=1288415553&type=Purple%20Software\"}}, \"im:voteSum\":{\"label\":\"0\"}, \"im:contentType\":{\"attributes\":{\"term\":\"Application\", \"label\":\"Application\"}}, \"im:voteCount\":{\"label\":\"0\"}}], \"updated\":{\"label\":\"2024-10-14T19:14:35-07:00\"}, \"rights\":{\"label\":\"Copyright 2008 Apple Inc.\"}, \"title\":{\"label\":\"iTunes Store: Customer Reviews\"}, \"icon\":{\"label\":\"http://itunes.apple.com/favicon.ico\"}, \"link\":[\n",
        "{\"attributes\":{\"rel\":\"alternate\", \"type\":\"text/html\", \"href\":\"https://music.apple.com/WebObjects/MZStore.woa/wa/viewGrouping?cc=us&id=1\"}},\n",
        "{\"attributes\":{\"rel\":\"self\", \"href\":\"https://mzstoreservices-int-st.itunes.apple.com/us/rss/customerreviews/id=1288415553/json\"}},\n",
        "{\"attributes\":{\"rel\":\"first\", \"href\":\"https://itunes.apple.com/us/rss/customerreviews/page=1/id=1288415553/sortby=mostrecent/xml?urlDesc=/customerreviews/id=1288415553/json\"}},\n",
        "{\"attributes\":{\"rel\":\"last\", \"href\":\"https://itunes.apple.com/us/rss/customerreviews/page=10/id=1288415553/sortby=mostrecent/xml?urlDesc=/customerreviews/id=1288415553/json\"}},\n",
        "{\"attributes\":{\"rel\":\"previous\", \"href\":\"https://itunes.apple.com/us/rss/customerreviews/page=1/id=1288415553/sortby=mostrecent/xml?urlDesc=/customerreviews/id=1288415553/json\"}},\n",
        "{\"attributes\":{\"rel\":\"next\", \"href\":\"https://itunes.apple.com/us/rss/customerreviews/page=2/id=1288415553/sortby=mostrecent/xml?urlDesc=/customerreviews/id=1288415553/json\"}}], \"id\":{\"label\":\"https://mzstoreservices-int-st.itunes.apple.com/us/rss/customerreviews/id=1288415553/json\"}}}"
      ]
    },
    {
      "cell_type": "code",
      "execution_count": 54,
      "metadata": {
        "colab": {
          "base_uri": "https://localhost:8080/"
        },
        "id": "1uQmp873AxYS",
        "outputId": "bd69e6ab-9a4d-4215-8051-97619c3350f1"
      },
      "outputs": [
        {
          "data": {
            "text/plain": [
              "{'feed': {'author': {'name': {'label': 'iTunes Store'},\n",
              "   'uri': {'label': 'http://www.apple.com/itunes/'}},\n",
              "  'entry': [{'author': {'uri': {'label': 'https://itunes.apple.com/us/reviews/id1330696046'},\n",
              "     'name': {'label': 'raka1jmj'},\n",
              "     'label': ''},\n",
              "    'updated': {'label': '2024-10-13T09:17:57-07:00'},\n",
              "    'im:rating': {'label': '1'},\n",
              "    'im:version': {'label': '3.1.6.1'},\n",
              "    'id': {'label': '11829940196'},\n",
              "    'title': {'label': 'Review'},\n",
              "    'content': {'label': 'I purchased service for a year. Constantly had difficulty with live coverage. If you things when it wants to not when it should. Now the image is hazy not clear. I am not happy with this device.',\n",
              "     'attributes': {'type': 'text'}},\n",
              "    'link': {'attributes': {'rel': 'related',\n",
              "      'href': 'https://itunes.apple.com/us/review?id=1288415553&type=Purple%20Software'}},\n",
              "    'im:voteSum': {'label': '0'},\n",
              "    'im:contentType': {'attributes': {'term': 'Application',\n",
              "      'label': 'Application'}},\n",
              "    'im:voteCount': {'label': '0'}},\n",
              "   {'author': {'uri': {'label': 'https://itunes.apple.com/us/reviews/id881670316'},\n",
              "     'name': {'label': '2112 Wolf'},\n",
              "     'label': ''},\n",
              "    'updated': {'label': '2024-10-13T08:30:43-07:00'},\n",
              "    'im:rating': {'label': '1'},\n",
              "    'im:version': {'label': '3.1.6.1'},\n",
              "    'id': {'label': '11829779997'},\n",
              "    'title': {'label': 'Poor service'},\n",
              "    'content': {'label': 'After using Wyze cams for ten years. And having 8 cameras in and around my house. The latest app update has caused nothing but problems. My wife is disabled and I have to be able to check on her when I am at work. Tech support did not resolve any issues. Connection drops. Won’t connect. Or pixelation. I will be looking at alternatives for the sake of my wife.',\n",
              "     'attributes': {'type': 'text'}},\n",
              "    'link': {'attributes': {'rel': 'related',\n",
              "      'href': 'https://itunes.apple.com/us/review?id=1288415553&type=Purple%20Software'}},\n",
              "    'im:voteSum': {'label': '0'},\n",
              "    'im:contentType': {'attributes': {'term': 'Application',\n",
              "      'label': 'Application'}},\n",
              "    'im:voteCount': {'label': '0'}},\n",
              "   {'author': {'uri': {'label': 'https://itunes.apple.com/us/reviews/id536734278'},\n",
              "     'name': {'label': 'Ktekomodo'},\n",
              "     'label': ''},\n",
              "    'updated': {'label': '2024-10-13T07:29:39-07:00'},\n",
              "    'im:rating': {'label': '4'},\n",
              "    'im:version': {'label': '3.1.6.1'},\n",
              "    'id': {'label': '11829568710'},\n",
              "    'title': {'label': 'Eh!'},\n",
              "    'content': {'label': 'The doorbells lag a lot my house is less than 1000 square feet. My internet connection is outstanding. The Wi-Fi has no problem with any other devices in the house and all the way to the garage. I wear hearing aids and the Bluetooth is outstanding I have several devices I can check when there is a notification but by the time I did receive the notification, I am sure it would be that way with other brands. Who knows ding dong',\n",
              "     'attributes': {'type': 'text'}},\n",
              "    'link': {'attributes': {'rel': 'related',\n",
              "      'href': 'https://itunes.apple.com/us/review?id=1288415553&type=Purple%20Software'}},\n",
              "    'im:voteSum': {'label': '0'},\n",
              "    'im:contentType': {'attributes': {'term': 'Application',\n",
              "      'label': 'Application'}},\n",
              "    'im:voteCount': {'label': '0'}},\n",
              "   {'author': {'uri': {'label': 'https://itunes.apple.com/us/reviews/id217520009'},\n",
              "     'name': {'label': 'topherMario33'},\n",
              "     'label': ''},\n",
              "    'updated': {'label': '2024-10-13T07:10:14-07:00'},\n",
              "    'im:rating': {'label': '3'},\n",
              "    'im:version': {'label': '3.1.6.1'},\n",
              "    'id': {'label': '11829501298'},\n",
              "    'title': {'label': 'Buggy new design'},\n",
              "    'content': {'label': 'I am a fan of what they are aiming for with the new design but it has made everything buggy. One big in particular plays a random recording in the background even when the app isn’t on screen. I also see a lot more connection errors than before the change. The widgets haven’t been updated to change with dark mode and the shortcuts don’t appear in the order you have them.',\n",
              "     'attributes': {'type': 'text'}},\n",
              "    'link': {'attributes': {'rel': 'related',\n",
              "      'href': 'https://itunes.apple.com/us/review?id=1288415553&type=Purple%20Software'}},\n",
              "    'im:voteSum': {'label': '0'},\n",
              "    'im:contentType': {'attributes': {'term': 'Application',\n",
              "      'label': 'Application'}},\n",
              "    'im:voteCount': {'label': '0'}},\n",
              "   {'author': {'uri': {'label': 'https://itunes.apple.com/us/reviews/id846769579'},\n",
              "     'name': {'label': 'Paratrooper 55'},\n",
              "     'label': ''},\n",
              "    'updated': {'label': '2024-10-13T06:40:51-07:00'},\n",
              "    'im:rating': {'label': '5'},\n",
              "    'im:version': {'label': '3.1.6.1'},\n",
              "    'id': {'label': '11829399484'},\n",
              "    'title': {'label': 'Tiny camera Delivers'},\n",
              "    'content': {'label': 'It may be i am just so amazed at how much area is covered and how clear the color usually is...and at a great price! I sound like an ad to myself, but hey, love this security camera from Wyze.',\n",
              "     'attributes': {'type': 'text'}},\n",
              "    'link': {'attributes': {'rel': 'related',\n",
              "      'href': 'https://itunes.apple.com/us/review?id=1288415553&type=Purple%20Software'}},\n",
              "    'im:voteSum': {'label': '0'},\n",
              "    'im:contentType': {'attributes': {'term': 'Application',\n",
              "      'label': 'Application'}},\n",
              "    'im:voteCount': {'label': '0'}},\n",
              "   {'author': {'uri': {'label': 'https://itunes.apple.com/us/reviews/id742983389'},\n",
              "     'name': {'label': 'realdumbgame'},\n",
              "     'label': ''},\n",
              "    'updated': {'label': '2024-10-13T05:33:05-07:00'},\n",
              "    'im:rating': {'label': '1'},\n",
              "    'im:version': {'label': '3.1.6.1'},\n",
              "    'id': {'label': '11829174930'},\n",
              "    'title': {'label': 'No reliability'},\n",
              "    'content': {'label': 'Was great years ago, but gone down hill. Never stays connected, no more notifications, almost useless. Pay more for upgrade and still unhappy with it. I gone with other better cams in most areas I had these.',\n",
              "     'attributes': {'type': 'text'}},\n",
              "    'link': {'attributes': {'rel': 'related',\n",
              "      'href': 'https://itunes.apple.com/us/review?id=1288415553&type=Purple%20Software'}},\n",
              "    'im:voteSum': {'label': '0'},\n",
              "    'im:contentType': {'attributes': {'term': 'Application',\n",
              "      'label': 'Application'}},\n",
              "    'im:voteCount': {'label': '0'}},\n",
              "   {'author': {'uri': {'label': 'https://itunes.apple.com/us/reviews/id42088410'},\n",
              "     'name': {'label': 'jessewyatt'},\n",
              "     'label': ''},\n",
              "    'updated': {'label': '2024-10-13T03:31:58-07:00'},\n",
              "    'im:rating': {'label': '2'},\n",
              "    'im:version': {'label': '3.1.6.1'},\n",
              "    'id': {'label': '11828828189'},\n",
              "    'title': {'label': 'Really wish they could incorporate this app into my ultra watch.'},\n",
              "    'content': {'label': 'I own 20 devices and a 4 figure watch, not one feature. SMH',\n",
              "     'attributes': {'type': 'text'}},\n",
              "    'link': {'attributes': {'rel': 'related',\n",
              "      'href': 'https://itunes.apple.com/us/review?id=1288415553&type=Purple%20Software'}},\n",
              "    'im:voteSum': {'label': '0'},\n",
              "    'im:contentType': {'attributes': {'term': 'Application',\n",
              "      'label': 'Application'}},\n",
              "    'im:voteCount': {'label': '0'}},\n",
              "   {'author': {'uri': {'label': 'https://itunes.apple.com/us/reviews/id21695226'},\n",
              "     'name': {'label': 'BigSwaaaang'},\n",
              "     'label': ''},\n",
              "    'updated': {'label': '2024-10-13T00:47:04-07:00'},\n",
              "    'im:rating': {'label': '2'},\n",
              "    'im:version': {'label': '3.1.6.1'},\n",
              "    'id': {'label': '11828415397'},\n",
              "    'title': {'label': 'Unreliable products and app buggy'},\n",
              "    'content': {'label': 'I’ve bought the smart bulbs, they never save their settings. Stopped using them. Bought their mini hand vac, stopped holding after a year. Threw it out. I do like their robot vac and their outdoor smart plugs, but the NEW app that controls them regularly shows them off when they’re on, or on when they’re off. The schedule works fine on one but not on the other. I have to do everything manually through the app which defeats the purpose of having “smart” plugs. The old app worked fine but for some reason a usability specialist convinced someone that this new version would be more intuitive. It was unnecessary and now buggy.',\n",
              "     'attributes': {'type': 'text'}},\n",
              "    'link': {'attributes': {'rel': 'related',\n",
              "      'href': 'https://itunes.apple.com/us/review?id=1288415553&type=Purple%20Software'}},\n",
              "    'im:voteSum': {'label': '0'},\n",
              "    'im:contentType': {'attributes': {'term': 'Application',\n",
              "      'label': 'Application'}},\n",
              "    'im:voteCount': {'label': '0'}},\n",
              "   {'author': {'uri': {'label': 'https://itunes.apple.com/us/reviews/id1615499599'},\n",
              "     'name': {'label': 'Givjcjciv'},\n",
              "     'label': ''},\n",
              "    'updated': {'label': '2024-10-12T19:55:15-07:00'},\n",
              "    'im:rating': {'label': '1'},\n",
              "    'im:version': {'label': '3.1.6.1'},\n",
              "    'id': {'label': '11827735856'},\n",
              "    'title': {'label': 'Not working'},\n",
              "    'content': {'label': 'Not working keep saying is in a offline',\n",
              "     'attributes': {'type': 'text'}},\n",
              "    'link': {'attributes': {'rel': 'related',\n",
              "      'href': 'https://itunes.apple.com/us/review?id=1288415553&type=Purple%20Software'}},\n",
              "    'im:voteSum': {'label': '0'},\n",
              "    'im:contentType': {'attributes': {'term': 'Application',\n",
              "      'label': 'Application'}},\n",
              "    'im:voteCount': {'label': '0'}},\n",
              "   {'author': {'uri': {'label': 'https://itunes.apple.com/us/reviews/id292140103'},\n",
              "     'name': {'label': 'Oh me you know'},\n",
              "     'label': ''},\n",
              "    'updated': {'label': '2024-10-12T13:48:09-07:00'},\n",
              "    'im:rating': {'label': '1'},\n",
              "    'im:version': {'label': '3.1.6.1'},\n",
              "    'id': {'label': '11826859720'},\n",
              "    'title': {'label': 'Latest update ruined the app'},\n",
              "    'content': {'label': 'It constantly freezes if viewing live on my 2 cam OGs, and that’s if it even opens live view. It freezes for like a minute or so at a time. Sends notifications late, instead of saying “right now” it will says 3 minutes ago. Why did yall have to ruin it? It was amazing before',\n",
              "     'attributes': {'type': 'text'}},\n",
              "    'link': {'attributes': {'rel': 'related',\n",
              "      'href': 'https://itunes.apple.com/us/review?id=1288415553&type=Purple%20Software'}},\n",
              "    'im:voteSum': {'label': '0'},\n",
              "    'im:contentType': {'attributes': {'term': 'Application',\n",
              "      'label': 'Application'}},\n",
              "    'im:voteCount': {'label': '0'}},\n",
              "   {'author': {'uri': {'label': 'https://itunes.apple.com/us/reviews/id280831210'},\n",
              "     'name': {'label': 'Valuero'},\n",
              "     'label': ''},\n",
              "    'updated': {'label': '2024-10-12T12:57:43-07:00'},\n",
              "    'im:rating': {'label': '1'},\n",
              "    'im:version': {'label': '3.1.6.1'},\n",
              "    'id': {'label': '11826731234'},\n",
              "    'title': {'label': 'Video playback'},\n",
              "    'content': {'label': 'Video playback on the app is poor. When you pause the video it restarts from the beginning.',\n",
              "     'attributes': {'type': 'text'}},\n",
              "    'link': {'attributes': {'rel': 'related',\n",
              "      'href': 'https://itunes.apple.com/us/review?id=1288415553&type=Purple%20Software'}},\n",
              "    'im:voteSum': {'label': '0'},\n",
              "    'im:contentType': {'attributes': {'term': 'Application',\n",
              "      'label': 'Application'}},\n",
              "    'im:voteCount': {'label': '0'}},\n",
              "   {'author': {'uri': {'label': 'https://itunes.apple.com/us/reviews/id291562442'},\n",
              "     'name': {'label': 'Lucky-nut'},\n",
              "     'label': ''},\n",
              "    'updated': {'label': '2024-10-12T06:19:32-07:00'},\n",
              "    'im:rating': {'label': '3'},\n",
              "    'im:version': {'label': '3.1.6.1'},\n",
              "    'id': {'label': '11825443275'},\n",
              "    'title': {'label': 'New app not as good'},\n",
              "    'content': {'label': 'Although the new app has more updated look to it, I do not like how it makes you wait until picture loads on favorites tab before you can turn the cam off.',\n",
              "     'attributes': {'type': 'text'}},\n",
              "    'link': {'attributes': {'rel': 'related',\n",
              "      'href': 'https://itunes.apple.com/us/review?id=1288415553&type=Purple%20Software'}},\n",
              "    'im:voteSum': {'label': '0'},\n",
              "    'im:contentType': {'attributes': {'term': 'Application',\n",
              "      'label': 'Application'}},\n",
              "    'im:voteCount': {'label': '0'}},\n",
              "   {'author': {'uri': {'label': 'https://itunes.apple.com/us/reviews/id1257781388'},\n",
              "     'name': {'label': 'tony this thing is grate'},\n",
              "     'label': ''},\n",
              "    'updated': {'label': '2024-10-11T20:42:19-07:00'},\n",
              "    'im:rating': {'label': '4'},\n",
              "    'im:version': {'label': '3.1.6.1'},\n",
              "    'id': {'label': '11824004290'},\n",
              "    'title': {'label': 'Very good'},\n",
              "    'content': {'label': 'Is grate', 'attributes': {'type': 'text'}},\n",
              "    'link': {'attributes': {'rel': 'related',\n",
              "      'href': 'https://itunes.apple.com/us/review?id=1288415553&type=Purple%20Software'}},\n",
              "    'im:voteSum': {'label': '0'},\n",
              "    'im:contentType': {'attributes': {'term': 'Application',\n",
              "      'label': 'Application'}},\n",
              "    'im:voteCount': {'label': '0'}},\n",
              "   {'author': {'uri': {'label': 'https://itunes.apple.com/us/reviews/id206335415'},\n",
              "     'name': {'label': 'Transformers23'},\n",
              "     'label': ''},\n",
              "    'updated': {'label': '2024-10-11T15:31:45-07:00'},\n",
              "    'im:rating': {'label': '1'},\n",
              "    'im:version': {'label': '3.1.6.1'},\n",
              "    'id': {'label': '11823273922'},\n",
              "    'title': {'label': 'Cheap'},\n",
              "    'content': {'label': 'Wyze products are cheap and the app is horrible',\n",
              "     'attributes': {'type': 'text'}},\n",
              "    'link': {'attributes': {'rel': 'related',\n",
              "      'href': 'https://itunes.apple.com/us/review?id=1288415553&type=Purple%20Software'}},\n",
              "    'im:voteSum': {'label': '0'},\n",
              "    'im:contentType': {'attributes': {'term': 'Application',\n",
              "      'label': 'Application'}},\n",
              "    'im:voteCount': {'label': '0'}},\n",
              "   {'author': {'uri': {'label': 'https://itunes.apple.com/us/reviews/id37551836'},\n",
              "     'name': {'label': 'scootermcgee317'},\n",
              "     'label': ''},\n",
              "    'updated': {'label': '2024-10-11T10:45:31-07:00'},\n",
              "    'im:rating': {'label': '1'},\n",
              "    'im:version': {'label': '3.1.6.1'},\n",
              "    'id': {'label': '11822549415'},\n",
              "    'title': {'label': 'Absolute cluster F since the redesign'},\n",
              "    'content': {'label': 'The app worked fine until the version 3 redesign. Now it’s a laggy, nearly unusable mess. Ended my subscription and ordered a Lorex bundle. Pricey up front, but the reliability should be a lot better.',\n",
              "     'attributes': {'type': 'text'}},\n",
              "    'link': {'attributes': {'rel': 'related',\n",
              "      'href': 'https://itunes.apple.com/us/review?id=1288415553&type=Purple%20Software'}},\n",
              "    'im:voteSum': {'label': '0'},\n",
              "    'im:contentType': {'attributes': {'term': 'Application',\n",
              "      'label': 'Application'}},\n",
              "    'im:voteCount': {'label': '0'}},\n",
              "   {'author': {'uri': {'label': 'https://itunes.apple.com/us/reviews/id650989953'},\n",
              "     'name': {'label': 'Fort the love of pete'},\n",
              "     'label': ''},\n",
              "    'updated': {'label': '2024-10-11T10:23:51-07:00'},\n",
              "    'im:rating': {'label': '1'},\n",
              "    'im:version': {'label': '3.1.6.1'},\n",
              "    'id': {'label': '11822486138'},\n",
              "    'title': {'label': 'Camera mediocre at best'},\n",
              "    'content': {'label': 'I have had Wyze cams for a few years… back before they now try and sell you monthly subscription plans. I always have had micro as cards in them to record to. Now am having difficulty playing back the events that are on the SD card. It prompts me to buy a monthly plan instead. Not happy. A coworker has the same setup as I do but doesn’t have this issue with his. Q',\n",
              "     'attributes': {'type': 'text'}},\n",
              "    'link': {'attributes': {'rel': 'related',\n",
              "      'href': 'https://itunes.apple.com/us/review?id=1288415553&type=Purple%20Software'}},\n",
              "    'im:voteSum': {'label': '0'},\n",
              "    'im:contentType': {'attributes': {'term': 'Application',\n",
              "      'label': 'Application'}},\n",
              "    'im:voteCount': {'label': '0'}},\n",
              "   {'author': {'uri': {'label': 'https://itunes.apple.com/us/reviews/id27612443'},\n",
              "     'name': {'label': 'NW32X'},\n",
              "     'label': ''},\n",
              "    'updated': {'label': '2024-10-11T06:16:48-07:00'},\n",
              "    'im:rating': {'label': '3'},\n",
              "    'im:version': {'label': '3.1.6.1'},\n",
              "    'id': {'label': '11821694103'},\n",
              "    'title': {'label': 'Buggy and unintuitive'},\n",
              "    'content': {'label': 'Some parts of the app are easy and obvious to use. Others are not. Some pages respect the system dark/light theme and some don’t. The worst part is that sometimes you get alerts of events but they don’t show up in the app’s event list. Sometimes you click to save a video and get a confirmation that it was saved but it is nowhere to be found in your photo library. Clearly this app needs some serious debugging and quality testing.',\n",
              "     'attributes': {'type': 'text'}},\n",
              "    'link': {'attributes': {'rel': 'related',\n",
              "      'href': 'https://itunes.apple.com/us/review?id=1288415553&type=Purple%20Software'}},\n",
              "    'im:voteSum': {'label': '0'},\n",
              "    'im:contentType': {'attributes': {'term': 'Application',\n",
              "      'label': 'Application'}},\n",
              "    'im:voteCount': {'label': '0'}},\n",
              "   {'author': {'uri': {'label': 'https://itunes.apple.com/us/reviews/id578333011'},\n",
              "     'name': {'label': 'james1994b'},\n",
              "     'label': ''},\n",
              "    'updated': {'label': '2024-10-11T04:39:15-07:00'},\n",
              "    'im:rating': {'label': '1'},\n",
              "    'im:version': {'label': '3.1.6.1'},\n",
              "    'id': {'label': '11821392808'},\n",
              "    'title': {'label': 'Camera never loads when I open app'},\n",
              "    'content': {'label': 'Horrible app that won’t connect to the camera',\n",
              "     'attributes': {'type': 'text'}},\n",
              "    'link': {'attributes': {'rel': 'related',\n",
              "      'href': 'https://itunes.apple.com/us/review?id=1288415553&type=Purple%20Software'}},\n",
              "    'im:voteSum': {'label': '0'},\n",
              "    'im:contentType': {'attributes': {'term': 'Application',\n",
              "      'label': 'Application'}},\n",
              "    'im:voteCount': {'label': '0'}},\n",
              "   {'author': {'uri': {'label': 'https://itunes.apple.com/us/reviews/id547807668'},\n",
              "     'name': {'label': 'Jolenena16'},\n",
              "     'label': ''},\n",
              "    'updated': {'label': '2024-10-11T04:18:26-07:00'},\n",
              "    'im:rating': {'label': '2'},\n",
              "    'im:version': {'label': '3.1.6.1'},\n",
              "    'id': {'label': '11821334566'},\n",
              "    'title': {'label': 'Worst update'},\n",
              "    'content': {'label': 'I don’t know what happened? But, after that last update. It’s horrible. Go back to the original.',\n",
              "     'attributes': {'type': 'text'}},\n",
              "    'link': {'attributes': {'rel': 'related',\n",
              "      'href': 'https://itunes.apple.com/us/review?id=1288415553&type=Purple%20Software'}},\n",
              "    'im:voteSum': {'label': '0'},\n",
              "    'im:contentType': {'attributes': {'term': 'Application',\n",
              "      'label': 'Application'}},\n",
              "    'im:voteCount': {'label': '0'}},\n",
              "   {'author': {'uri': {'label': 'https://itunes.apple.com/us/reviews/id419075245'},\n",
              "     'name': {'label': 'appmiky'},\n",
              "     'label': ''},\n",
              "    'updated': {'label': '2024-10-11T00:37:11-07:00'},\n",
              "    'im:rating': {'label': '3'},\n",
              "    'im:version': {'label': '3.1.6.1'},\n",
              "    'id': {'label': '11820837948'},\n",
              "    'title': {'label': 'Much improved UI but still incorporates privacy hazards'},\n",
              "    'content': {'label': 'Live stream of multiple cameras on one screen is nice. Please get rid of the prominent share video \"to improve AI\" prompt. It\\'s way too easy to accidentally hit \"yes.\" as it\\'s right next to delete button. At least provide opt out option to get rid of the prompt for those not using smart detections.',\n",
              "     'attributes': {'type': 'text'}},\n",
              "    'link': {'attributes': {'rel': 'related',\n",
              "      'href': 'https://itunes.apple.com/us/review?id=1288415553&type=Purple%20Software'}},\n",
              "    'im:voteSum': {'label': '0'},\n",
              "    'im:contentType': {'attributes': {'term': 'Application',\n",
              "      'label': 'Application'}},\n",
              "    'im:voteCount': {'label': '0'}},\n",
              "   {'author': {'uri': {'label': 'https://itunes.apple.com/us/reviews/id135608868'},\n",
              "     'name': {'label': 'Mark_Mark'},\n",
              "     'label': ''},\n",
              "    'updated': {'label': '2024-10-10T20:42:33-07:00'},\n",
              "    'im:rating': {'label': '2'},\n",
              "    'im:version': {'label': '3.1.6.1'},\n",
              "    'id': {'label': '11820371019'},\n",
              "    'title': {'label': 'Generally good but problems occasionally'},\n",
              "    'content': {'label': 'I have noticed the most recent version of the app continues to play audio from a camera after it has been minimized. Over the last 24 hours, I discovered the app was using inordinate amount of battery, almost 50% in the last 24 hours. Occasionally, I would hear strange sound coming from the phone.. I finally realized that the Wyze app was playing sound from a camera, even though the app was not on screen! I killed the app, deleted and reinstalled it, and the problem went away for now.  Not sure this is trustworthy though, and that remains a big Wyze problem.',\n",
              "     'attributes': {'type': 'text'}},\n",
              "    'link': {'attributes': {'rel': 'related',\n",
              "      'href': 'https://itunes.apple.com/us/review?id=1288415553&type=Purple%20Software'}},\n",
              "    'im:voteSum': {'label': '0'},\n",
              "    'im:contentType': {'attributes': {'term': 'Application',\n",
              "      'label': 'Application'}},\n",
              "    'im:voteCount': {'label': '0'}},\n",
              "   {'author': {'uri': {'label': 'https://itunes.apple.com/us/reviews/id86028507'},\n",
              "     'name': {'label': 'My-two-cents?'},\n",
              "     'label': ''},\n",
              "    'updated': {'label': '2024-10-10T17:23:00-07:00'},\n",
              "    'im:rating': {'label': '1'},\n",
              "    'im:version': {'label': '3.1.6.1'},\n",
              "    'id': {'label': '11819926958'},\n",
              "    'title': {'label': 'Not smart at all'},\n",
              "    'content': {'label': 'None of their camera stuff works. They are a Chinese import marketing company, not a tech company by any stretch of imagination. \\nStay away and buy something that actually works.',\n",
              "     'attributes': {'type': 'text'}},\n",
              "    'link': {'attributes': {'rel': 'related',\n",
              "      'href': 'https://itunes.apple.com/us/review?id=1288415553&type=Purple%20Software'}},\n",
              "    'im:voteSum': {'label': '0'},\n",
              "    'im:contentType': {'attributes': {'term': 'Application',\n",
              "      'label': 'Application'}},\n",
              "    'im:voteCount': {'label': '0'}},\n",
              "   {'author': {'uri': {'label': 'https://itunes.apple.com/us/reviews/id180713497'},\n",
              "     'name': {'label': 'Coe-z1'},\n",
              "     'label': ''},\n",
              "    'updated': {'label': '2024-10-10T15:59:16-07:00'},\n",
              "    'im:rating': {'label': '2'},\n",
              "    'im:version': {'label': '3.1.6.1'},\n",
              "    'id': {'label': '11819740309'},\n",
              "    'title': {'label': 'Not Impressed!'},\n",
              "    'content': {'label': 'Before I wrote this review I wanted to give it a fair shot.  I bought two cameras and one gave me a hard time to get it to motion detect.  Then after awhile, both of them would go off line (while plugged up).  Then I would have to log back in every time to set them back up.  Now, I can’t see the cameras because they continuously stay off line.  When they work, they’re great. But when they don’t work, it’s frustrating.',\n",
              "     'attributes': {'type': 'text'}},\n",
              "    'link': {'attributes': {'rel': 'related',\n",
              "      'href': 'https://itunes.apple.com/us/review?id=1288415553&type=Purple%20Software'}},\n",
              "    'im:voteSum': {'label': '0'},\n",
              "    'im:contentType': {'attributes': {'term': 'Application',\n",
              "      'label': 'Application'}},\n",
              "    'im:voteCount': {'label': '0'}},\n",
              "   {'author': {'uri': {'label': 'https://itunes.apple.com/us/reviews/id1143038286'},\n",
              "     'name': {'label': 'dsaffo'},\n",
              "     'label': ''},\n",
              "    'updated': {'label': '2024-10-10T15:51:07-07:00'},\n",
              "    'im:rating': {'label': '1'},\n",
              "    'im:version': {'label': '3.1.6.1'},\n",
              "    'id': {'label': '11819722229'},\n",
              "    'title': {'label': 'Doesn’t work on mobile networks'},\n",
              "    'content': {'label': 'The whole point of having this is to check on my home while away. Seems almost useless.',\n",
              "     'attributes': {'type': 'text'}},\n",
              "    'link': {'attributes': {'rel': 'related',\n",
              "      'href': 'https://itunes.apple.com/us/review?id=1288415553&type=Purple%20Software'}},\n",
              "    'im:voteSum': {'label': '0'},\n",
              "    'im:contentType': {'attributes': {'term': 'Application',\n",
              "      'label': 'Application'}},\n",
              "    'im:voteCount': {'label': '0'}},\n",
              "   {'author': {'uri': {'label': 'https://itunes.apple.com/us/reviews/id118481889'},\n",
              "     'name': {'label': 'Mom2sage'},\n",
              "     'label': ''},\n",
              "    'updated': {'label': '2024-10-10T14:33:03-07:00'},\n",
              "    'im:rating': {'label': '3'},\n",
              "    'im:version': {'label': '3.1.6.1'},\n",
              "    'id': {'label': '11819548399'},\n",
              "    'title': {'label': 'Bad video'},\n",
              "    'content': {'label': 'Initially camera worked great. Last 6 months or so the video quality is terrible. It might start off ok but then goes white or it starts off ok then gets multicolored lines through it making it impossible to see the video. \\nI have submitted the videos and never had any improvement',\n",
              "     'attributes': {'type': 'text'}},\n",
              "    'link': {'attributes': {'rel': 'related',\n",
              "      'href': 'https://itunes.apple.com/us/review?id=1288415553&type=Purple%20Software'}},\n",
              "    'im:voteSum': {'label': '0'},\n",
              "    'im:contentType': {'attributes': {'term': 'Application',\n",
              "      'label': 'Application'}},\n",
              "    'im:voteCount': {'label': '0'}},\n",
              "   {'author': {'uri': {'label': 'https://itunes.apple.com/us/reviews/id877230454'},\n",
              "     'name': {'label': 'Italyan lady'},\n",
              "     'label': ''},\n",
              "    'updated': {'label': '2024-10-10T12:57:00-07:00'},\n",
              "    'im:rating': {'label': '5'},\n",
              "    'im:version': {'label': '3.1.6.1'},\n",
              "    'id': {'label': '11819319372'},\n",
              "    'title': {'label': 'Review'},\n",
              "    'content': {'label': 'Great camera', 'attributes': {'type': 'text'}},\n",
              "    'link': {'attributes': {'rel': 'related',\n",
              "      'href': 'https://itunes.apple.com/us/review?id=1288415553&type=Purple%20Software'}},\n",
              "    'im:voteSum': {'label': '0'},\n",
              "    'im:contentType': {'attributes': {'term': 'Application',\n",
              "      'label': 'Application'}},\n",
              "    'im:voteCount': {'label': '0'}},\n",
              "   {'author': {'uri': {'label': 'https://itunes.apple.com/us/reviews/id674274451'},\n",
              "     'name': {'label': 'Surikadon'},\n",
              "     'label': ''},\n",
              "    'updated': {'label': '2024-10-10T08:42:11-07:00'},\n",
              "    'im:rating': {'label': '2'},\n",
              "    'im:version': {'label': '3.1.6.1'},\n",
              "    'id': {'label': '11818601537'},\n",
              "    'title': {'label': 'App is too slow'},\n",
              "    'content': {'label': 'Why are no bug fixes there are lot of delays with app',\n",
              "     'attributes': {'type': 'text'}},\n",
              "    'link': {'attributes': {'rel': 'related',\n",
              "      'href': 'https://itunes.apple.com/us/review?id=1288415553&type=Purple%20Software'}},\n",
              "    'im:voteSum': {'label': '0'},\n",
              "    'im:contentType': {'attributes': {'term': 'Application',\n",
              "      'label': 'Application'}},\n",
              "    'im:voteCount': {'label': '0'}},\n",
              "   {'author': {'uri': {'label': 'https://itunes.apple.com/us/reviews/id682444447'},\n",
              "     'name': {'label': 'weeeeeeeeeeeman'},\n",
              "     'label': ''},\n",
              "    'updated': {'label': '2024-10-10T07:50:36-07:00'},\n",
              "    'im:rating': {'label': '5'},\n",
              "    'im:version': {'label': '3.1.6.1'},\n",
              "    'id': {'label': '11818438349'},\n",
              "    'title': {'label': 'Pic'},\n",
              "    'content': {'label': 'Love taking pictures',\n",
              "     'attributes': {'type': 'text'}},\n",
              "    'link': {'attributes': {'rel': 'related',\n",
              "      'href': 'https://itunes.apple.com/us/review?id=1288415553&type=Purple%20Software'}},\n",
              "    'im:voteSum': {'label': '0'},\n",
              "    'im:contentType': {'attributes': {'term': 'Application',\n",
              "      'label': 'Application'}},\n",
              "    'im:voteCount': {'label': '0'}},\n",
              "   {'author': {'uri': {'label': 'https://itunes.apple.com/us/reviews/id330141534'},\n",
              "     'name': {'label': 'Delmylamagnifica'},\n",
              "     'label': ''},\n",
              "    'updated': {'label': '2024-10-10T03:42:10-07:00'},\n",
              "    'im:rating': {'label': '1'},\n",
              "    'im:version': {'label': '3.1.6.1'},\n",
              "    'id': {'label': '11817689902'},\n",
              "    'title': {'label': 'It is not working the app'},\n",
              "    'content': {'label': 'No good', 'attributes': {'type': 'text'}},\n",
              "    'link': {'attributes': {'rel': 'related',\n",
              "      'href': 'https://itunes.apple.com/us/review?id=1288415553&type=Purple%20Software'}},\n",
              "    'im:voteSum': {'label': '0'},\n",
              "    'im:contentType': {'attributes': {'term': 'Application',\n",
              "      'label': 'Application'}},\n",
              "    'im:voteCount': {'label': '0'}},\n",
              "   {'author': {'uri': {'label': 'https://itunes.apple.com/us/reviews/id197559767'},\n",
              "     'name': {'label': 'Savleeaus'},\n",
              "     'label': ''},\n",
              "    'updated': {'label': '2024-10-10T01:04:19-07:00'},\n",
              "    'im:rating': {'label': '2'},\n",
              "    'im:version': {'label': '3.1.6.1'},\n",
              "    'id': {'label': '11817341870'},\n",
              "    'title': {'label': 'App makeover needs work'},\n",
              "    'content': {'label': 'Ever since they redesigned the app the connectivity is HORRIBLE. Frequent lagging/troubleshooting when trying to view any camera. I dislike the live view feature when you first open the app as that is horribly laggy as well. Internet speed is not the issue.',\n",
              "     'attributes': {'type': 'text'}},\n",
              "    'link': {'attributes': {'rel': 'related',\n",
              "      'href': 'https://itunes.apple.com/us/review?id=1288415553&type=Purple%20Software'}},\n",
              "    'im:voteSum': {'label': '0'},\n",
              "    'im:contentType': {'attributes': {'term': 'Application',\n",
              "      'label': 'Application'}},\n",
              "    'im:voteCount': {'label': '0'}},\n",
              "   {'author': {'uri': {'label': 'https://itunes.apple.com/us/reviews/id173430612'},\n",
              "     'name': {'label': 'Seed10601'},\n",
              "     'label': ''},\n",
              "    'updated': {'label': '2024-10-09T17:10:55-07:00'},\n",
              "    'im:rating': {'label': '2'},\n",
              "    'im:version': {'label': '3.1.6.1'},\n",
              "    'id': {'label': '11816348030'},\n",
              "    'title': {'label': 'Too munch maintenance required'},\n",
              "    'content': {'label': 'Offline too often, the pan V3 does not work properly',\n",
              "     'attributes': {'type': 'text'}},\n",
              "    'link': {'attributes': {'rel': 'related',\n",
              "      'href': 'https://itunes.apple.com/us/review?id=1288415553&type=Purple%20Software'}},\n",
              "    'im:voteSum': {'label': '0'},\n",
              "    'im:contentType': {'attributes': {'term': 'Application',\n",
              "      'label': 'Application'}},\n",
              "    'im:voteCount': {'label': '0'}},\n",
              "   {'author': {'uri': {'label': 'https://itunes.apple.com/us/reviews/id140917077'},\n",
              "     'name': {'label': 'Great but not for everybody'},\n",
              "     'label': ''},\n",
              "    'updated': {'label': '2024-10-09T16:34:35-07:00'},\n",
              "    'im:rating': {'label': '1'},\n",
              "    'im:version': {'label': '3.1.6.1'},\n",
              "    'id': {'label': '11816268546'},\n",
              "    'title': {'label': 'They spam you'},\n",
              "    'content': {'label': 'If you have their app, you will get spam adds all of the time that you can’t stop.',\n",
              "     'attributes': {'type': 'text'}},\n",
              "    'link': {'attributes': {'rel': 'related',\n",
              "      'href': 'https://itunes.apple.com/us/review?id=1288415553&type=Purple%20Software'}},\n",
              "    'im:voteSum': {'label': '0'},\n",
              "    'im:contentType': {'attributes': {'term': 'Application',\n",
              "      'label': 'Application'}},\n",
              "    'im:voteCount': {'label': '0'}},\n",
              "   {'author': {'uri': {'label': 'https://itunes.apple.com/us/reviews/id1224247518'},\n",
              "     'name': {'label': 'wide foot 13'},\n",
              "     'label': ''},\n",
              "    'updated': {'label': '2024-10-09T11:32:56-07:00'},\n",
              "    'im:rating': {'label': '1'},\n",
              "    'im:version': {'label': '3.1.6.1'},\n",
              "    'id': {'label': '11815556915'},\n",
              "    'title': {'label': 'Server Failure'},\n",
              "    'content': {'label': 'I can’t view any past videos or live events it’s said it failed to upload so the camera is useless and only useful as a doorbell',\n",
              "     'attributes': {'type': 'text'}},\n",
              "    'link': {'attributes': {'rel': 'related',\n",
              "      'href': 'https://itunes.apple.com/us/review?id=1288415553&type=Purple%20Software'}},\n",
              "    'im:voteSum': {'label': '0'},\n",
              "    'im:contentType': {'attributes': {'term': 'Application',\n",
              "      'label': 'Application'}},\n",
              "    'im:voteCount': {'label': '0'}},\n",
              "   {'author': {'uri': {'label': 'https://itunes.apple.com/us/reviews/id20497364'},\n",
              "     'name': {'label': 'CvillePete'},\n",
              "     'label': ''},\n",
              "    'updated': {'label': '2024-10-09T11:20:26-07:00'},\n",
              "    'im:rating': {'label': '5'},\n",
              "    'im:version': {'label': '3.1.6.1'},\n",
              "    'id': {'label': '11815523019'},\n",
              "    'title': {'label': 'Reliable but you have to wade through offers'},\n",
              "    'content': {'label': 'I am enjoying the app. I think it is reliable and mostly intuitive. You cannot change WiFi network on the fly but there is a work-around for that. I don’t like seeing all of the flash deals and sale offers that pop up sometimes. It had been fairly infrequent - I only recall one here or there - but over the past month I have had to click through five ads or offers. Doesn’t seem like a lot but I use my app from a security point-of-view which means I need to see what is happening _now_, not after I click through more offers. I also get bombarded with ads via email. Please reduce to 1 per month and go easy on your users. We can only consume so much stuff. I have doubled my ownership over the past month as well. It is merely a coincidence. I began shopping for more things because we had an incident. Personally, I think I am buying because of my need and not because I’m blasted with ads. Some may argue differently. Who really knows?  I think this company might end up nickel-and-diming me to death because I just keep adding things to my service. They need to offer a retirement planner for us to use to see how much longer until we retire based on how much money I am spending with the company.  If they could package it up somehow and slap a camera on it I’d buy it.',\n",
              "     'attributes': {'type': 'text'}},\n",
              "    'link': {'attributes': {'rel': 'related',\n",
              "      'href': 'https://itunes.apple.com/us/review?id=1288415553&type=Purple%20Software'}},\n",
              "    'im:voteSum': {'label': '0'},\n",
              "    'im:contentType': {'attributes': {'term': 'Application',\n",
              "      'label': 'Application'}},\n",
              "    'im:voteCount': {'label': '0'}},\n",
              "   {'author': {'uri': {'label': 'https://itunes.apple.com/us/reviews/id1098211494'},\n",
              "     'name': {'label': 'kathyriveruh'},\n",
              "     'label': ''},\n",
              "    'updated': {'label': '2024-10-09T10:42:22-07:00'},\n",
              "    'im:rating': {'label': '3'},\n",
              "    'im:version': {'label': '3.1.6.1'},\n",
              "    'id': {'label': '11815416594'},\n",
              "    'title': {'label': 'Love hate'},\n",
              "    'content': {'label': 'I love hate it we bought 2 cameras and it used to be a perfect for us to use but lately the camera has been giving us a error when we try to look at live we have to constantly turn it off or restart in order for it to work. At time we aren’t home and it say we check in to see the live and it does load I have to put turn on privacy and turn it off. Now it doesn’t even let me use microphone the either .if they could fix this I’d love it',\n",
              "     'attributes': {'type': 'text'}},\n",
              "    'link': {'attributes': {'rel': 'related',\n",
              "      'href': 'https://itunes.apple.com/us/review?id=1288415553&type=Purple%20Software'}},\n",
              "    'im:voteSum': {'label': '0'},\n",
              "    'im:contentType': {'attributes': {'term': 'Application',\n",
              "      'label': 'Application'}},\n",
              "    'im:voteCount': {'label': '0'}},\n",
              "   {'author': {'uri': {'label': 'https://itunes.apple.com/us/reviews/id87552853'},\n",
              "     'name': {'label': 'Cjb1384'},\n",
              "     'label': ''},\n",
              "    'updated': {'label': '2024-10-09T07:23:50-07:00'},\n",
              "    'im:rating': {'label': '1'},\n",
              "    'im:version': {'label': '3.1.6.1'},\n",
              "    'id': {'label': '11814805805'},\n",
              "    'title': {'label': 'Used to be great'},\n",
              "    'content': {'label': 'Of my 5 Wyze cameras only 2 work fairly consistently. The others, which are on the same network as the 2 that work and are equally distant from the router as the working 2, always go off line. The message I receive is “unplug and plug in your camera”. That would be easy if I was always home to do it.  But, I wouldn’t need the cameras if I was always home. I also have Blink cameras elsewhere that always work so I will now spend the money and replace all my Wyze cameras with Blink.  Sorry Wyze, you used to be great!',\n",
              "     'attributes': {'type': 'text'}},\n",
              "    'link': {'attributes': {'rel': 'related',\n",
              "      'href': 'https://itunes.apple.com/us/review?id=1288415553&type=Purple%20Software'}},\n",
              "    'im:voteSum': {'label': '0'},\n",
              "    'im:contentType': {'attributes': {'term': 'Application',\n",
              "      'label': 'Application'}},\n",
              "    'im:voteCount': {'label': '0'}},\n",
              "   {'author': {'uri': {'label': 'https://itunes.apple.com/us/reviews/id265389403'},\n",
              "     'name': {'label': 'Ahavati 1'},\n",
              "     'label': ''},\n",
              "    'updated': {'label': '2024-10-09T04:52:07-07:00'},\n",
              "    'im:rating': {'label': '1'},\n",
              "    'im:version': {'label': '3.1.6.1'},\n",
              "    'id': {'label': '11814333475'},\n",
              "    'title': {'label': 'Cameras don’t last long'},\n",
              "    'content': {'label': 'They don’t last long. Take for ever to do any updates. Often show as not online and have to be rebooted. A real pain and inconvenience when needing security for a home that you are not present to reboot.',\n",
              "     'attributes': {'type': 'text'}},\n",
              "    'link': {'attributes': {'rel': 'related',\n",
              "      'href': 'https://itunes.apple.com/us/review?id=1288415553&type=Purple%20Software'}},\n",
              "    'im:voteSum': {'label': '0'},\n",
              "    'im:contentType': {'attributes': {'term': 'Application',\n",
              "      'label': 'Application'}},\n",
              "    'im:voteCount': {'label': '0'}},\n",
              "   {'author': {'uri': {'label': 'https://itunes.apple.com/us/reviews/id1220696022'},\n",
              "     'name': {'label': 'rhett.trappman'},\n",
              "     'label': ''},\n",
              "    'updated': {'label': '2024-10-09T04:45:36-07:00'},\n",
              "    'im:rating': {'label': '2'},\n",
              "    'im:version': {'label': '3.1.6.1'},\n",
              "    'id': {'label': '11814314481'},\n",
              "    'title': {'label': 'Issue With Subscription From App Store'},\n",
              "    'content': {'label': 'The active subscription I have in the App Store isn’t reflected on my account in the web page or the app.',\n",
              "     'attributes': {'type': 'text'}},\n",
              "    'link': {'attributes': {'rel': 'related',\n",
              "      'href': 'https://itunes.apple.com/us/review?id=1288415553&type=Purple%20Software'}},\n",
              "    'im:voteSum': {'label': '0'},\n",
              "    'im:contentType': {'attributes': {'term': 'Application',\n",
              "      'label': 'Application'}},\n",
              "    'im:voteCount': {'label': '0'}},\n",
              "   {'author': {'uri': {'label': 'https://itunes.apple.com/us/reviews/id447502700'},\n",
              "     'name': {'label': 'Hinch57'},\n",
              "     'label': ''},\n",
              "    'updated': {'label': '2024-10-09T01:10:41-07:00'},\n",
              "    'im:rating': {'label': '1'},\n",
              "    'im:version': {'label': '3.1.6.1'},\n",
              "    'id': {'label': '11813815319'},\n",
              "    'title': {'label': \"If it ain't broke…\"},\n",
              "    'content': {'label': 'Your last update destroyed the app! Hangups, glitches, screen delays etc, etc. Was this update for bug fixes or bug installs?!',\n",
              "     'attributes': {'type': 'text'}},\n",
              "    'link': {'attributes': {'rel': 'related',\n",
              "      'href': 'https://itunes.apple.com/us/review?id=1288415553&type=Purple%20Software'}},\n",
              "    'im:voteSum': {'label': '0'},\n",
              "    'im:contentType': {'attributes': {'term': 'Application',\n",
              "      'label': 'Application'}},\n",
              "    'im:voteCount': {'label': '0'}},\n",
              "   {'author': {'uri': {'label': 'https://itunes.apple.com/us/reviews/id437523286'},\n",
              "     'name': {'label': 'yikbgg'},\n",
              "     'label': ''},\n",
              "    'updated': {'label': '2024-10-08T22:00:25-07:00'},\n",
              "    'im:rating': {'label': '2'},\n",
              "    'im:version': {'label': '3.1.6.1'},\n",
              "    'id': {'label': '11813439311'},\n",
              "    'title': {'label': 'Not very transparent pricing'},\n",
              "    'content': {'label': 'Just got an email that my subscription was renewing, but it had no indication of how much it was or how I could manage said plan. Went to the app, dug the subscription out of the menu options, hit manage—and was told I couldn’t manage it in the app, but not directed to WHERE on the site I could manage it (or even how much it was, which was what I actually wanted to know). The website menu didn’t match the app menu so it took time to figure out where to see the subscription there. I just want to know what I’m paying and be able to easily decide whether I want to keep paying it; that shouldn’t take this many steps!',\n",
              "     'attributes': {'type': 'text'}},\n",
              "    'link': {'attributes': {'rel': 'related',\n",
              "      'href': 'https://itunes.apple.com/us/review?id=1288415553&type=Purple%20Software'}},\n",
              "    'im:voteSum': {'label': '0'},\n",
              "    'im:contentType': {'attributes': {'term': 'Application',\n",
              "      'label': 'Application'}},\n",
              "    'im:voteCount': {'label': '0'}},\n",
              "   {'author': {'uri': {'label': 'https://itunes.apple.com/us/reviews/id1049801873'},\n",
              "     'name': {'label': 'AMD_RAW'},\n",
              "     'label': ''},\n",
              "    'updated': {'label': '2024-10-08T18:04:36-07:00'},\n",
              "    'im:rating': {'label': '1'},\n",
              "    'im:version': {'label': '3.1.6.1'},\n",
              "    'id': {'label': '11812906760'},\n",
              "    'title': {'label': 'Hands down the biggest waste of money I’ve ever spent'},\n",
              "    'content': {'label': 'Do not waste your money on this product. It NEVER works. Doesn’t ever record anything. Takes forever to load. You will go DAYS without one single event recorded if you don’t reboot the system and app every. single. day - multiple times a day. Absolutely terrible. \\n\\nI just purchased some ring cameras. hopefully I have a better outcome with those.',\n",
              "     'attributes': {'type': 'text'}},\n",
              "    'link': {'attributes': {'rel': 'related',\n",
              "      'href': 'https://itunes.apple.com/us/review?id=1288415553&type=Purple%20Software'}},\n",
              "    'im:voteSum': {'label': '0'},\n",
              "    'im:contentType': {'attributes': {'term': 'Application',\n",
              "      'label': 'Application'}},\n",
              "    'im:voteCount': {'label': '0'}},\n",
              "   {'author': {'uri': {'label': 'https://itunes.apple.com/us/reviews/id42334554'},\n",
              "     'name': {'label': 'fryguyslim'},\n",
              "     'label': ''},\n",
              "    'updated': {'label': '2024-10-08T15:19:10-07:00'},\n",
              "    'im:rating': {'label': '1'},\n",
              "    'im:version': {'label': '3.1.6.1'},\n",
              "    'id': {'label': '11812530299'},\n",
              "    'title': {'label': 'IOS 18 not working'},\n",
              "    'content': {'label': 'Pancam V3 not working on IOS 18 please update!',\n",
              "     'attributes': {'type': 'text'}},\n",
              "    'link': {'attributes': {'rel': 'related',\n",
              "      'href': 'https://itunes.apple.com/us/review?id=1288415553&type=Purple%20Software'}},\n",
              "    'im:voteSum': {'label': '0'},\n",
              "    'im:contentType': {'attributes': {'term': 'Application',\n",
              "      'label': 'Application'}},\n",
              "    'im:voteCount': {'label': '0'}},\n",
              "   {'author': {'uri': {'label': 'https://itunes.apple.com/us/reviews/id551722569'},\n",
              "     'name': {'label': 'RebelRogers420'},\n",
              "     'label': ''},\n",
              "    'updated': {'label': '2024-10-08T14:48:24-07:00'},\n",
              "    'im:rating': {'label': '1'},\n",
              "    'im:version': {'label': '3.1.6.1'},\n",
              "    'id': {'label': '11812463722'},\n",
              "    'title': {'label': 'Trash'},\n",
              "    'content': {'label': 'Wyze is having my review removed, I assume because they don’t want people to know that you don’t get what you pay for. You don’t get five minute recordings even when you pay and most of the time you get an error when you attempt to watch previous recordings. I have home monitoring and can’t set my alarm from my phone or my keypad. Customer service doesn’t know how to fix anything. They trouble shoot which is the same thing you’d do before you contact them. I foolishly gave them another $13 for monitoring and of course it’s not working. You’re not going to get a credit for any of the inconvenience or for lack of service. Customer service is impossible to reach! I’d recommend simply safe or ring before I recommend this company. They’re clearly only about the money and don’t care if you have service or not after paying. To see the real reviews just click on the option to see more critical reviews …the five stars are most likely bots or paid. If they weren’t paying for five star reviews they’d definitely have like a two or three if that.',\n",
              "     'attributes': {'type': 'text'}},\n",
              "    'link': {'attributes': {'rel': 'related',\n",
              "      'href': 'https://itunes.apple.com/us/review?id=1288415553&type=Purple%20Software'}},\n",
              "    'im:voteSum': {'label': '0'},\n",
              "    'im:contentType': {'attributes': {'term': 'Application',\n",
              "      'label': 'Application'}},\n",
              "    'im:voteCount': {'label': '0'}},\n",
              "   {'author': {'uri': {'label': 'https://itunes.apple.com/us/reviews/id865901332'},\n",
              "     'name': {'label': 'Camera review 1'},\n",
              "     'label': ''},\n",
              "    'updated': {'label': '2024-10-08T13:52:08-07:00'},\n",
              "    'im:rating': {'label': '3'},\n",
              "    'im:version': {'label': '3.1.6.1'},\n",
              "    'id': {'label': '11812336540'},\n",
              "    'title': {'label': 'Connection problem'},\n",
              "    'content': {'label': 'The app freezes alot and connection problems',\n",
              "     'attributes': {'type': 'text'}},\n",
              "    'link': {'attributes': {'rel': 'related',\n",
              "      'href': 'https://itunes.apple.com/us/review?id=1288415553&type=Purple%20Software'}},\n",
              "    'im:voteSum': {'label': '0'},\n",
              "    'im:contentType': {'attributes': {'term': 'Application',\n",
              "      'label': 'Application'}},\n",
              "    'im:voteCount': {'label': '0'}},\n",
              "   {'author': {'uri': {'label': 'https://itunes.apple.com/us/reviews/id1254176854'},\n",
              "     'name': {'label': 'TheAverageJoeReview'},\n",
              "     'label': ''},\n",
              "    'updated': {'label': '2024-10-08T13:39:22-07:00'},\n",
              "    'im:rating': {'label': '2'},\n",
              "    'im:version': {'label': '3.1.6.1'},\n",
              "    'id': {'label': '11812306758'},\n",
              "    'title': {'label': 'Hardware is good, Software is Lacking'},\n",
              "    'content': {'label': 'The hardware for the cameras is impressive for the price, but the software is severely lacking.\\n\\nThe cameras rarely load on the first try. It often gets stuck on step 1 of 3. When this happens I have to restart the app and try again.\\n\\nI can’t believe after all these years you still cannot share the playback feature for the cameras to anyone. Only the primary account holder can use the playback feature, even if other users are given full access.\\n\\nThe user interface is jumpy. Shortcuts will often load in a couple seconds after the main app, resulting in the UI jumping last second and often causing the wrong camera to be pressed. Super annoying when you are quickly trying to view an event.\\n\\nEvents in the newer cameras were replaced with a screenshot instead of a short clip.\\n\\nThe settings page is a bright white even after changing the app to dark mode. It took years for dark mode to be released in the app and it still feels like it isn’t done.\\n\\nOverall, I have enjoyed Wyze for the last 5 years, but it feels like the software is falling behind and they are focusing on more hardware upgrades rather than the software.',\n",
              "     'attributes': {'type': 'text'}},\n",
              "    'link': {'attributes': {'rel': 'related',\n",
              "      'href': 'https://itunes.apple.com/us/review?id=1288415553&type=Purple%20Software'}},\n",
              "    'im:voteSum': {'label': '0'},\n",
              "    'im:contentType': {'attributes': {'term': 'Application',\n",
              "      'label': 'Application'}},\n",
              "    'im:voteCount': {'label': '0'}},\n",
              "   {'author': {'uri': {'label': 'https://itunes.apple.com/us/reviews/id1336811346'},\n",
              "     'name': {'label': 'nicholloop'},\n",
              "     'label': ''},\n",
              "    'updated': {'label': '2024-10-08T13:31:36-07:00'},\n",
              "    'im:rating': {'label': '2'},\n",
              "    'im:version': {'label': '3.1.6.1'},\n",
              "    'id': {'label': '11812288162'},\n",
              "    'title': {'label': 'Used to be good'},\n",
              "    'content': {'label': 'Now they want to charge you $15 for stuff that used to cost three dollars',\n",
              "     'attributes': {'type': 'text'}},\n",
              "    'link': {'attributes': {'rel': 'related',\n",
              "      'href': 'https://itunes.apple.com/us/review?id=1288415553&type=Purple%20Software'}},\n",
              "    'im:voteSum': {'label': '0'},\n",
              "    'im:contentType': {'attributes': {'term': 'Application',\n",
              "      'label': 'Application'}},\n",
              "    'im:voteCount': {'label': '0'}},\n",
              "   {'author': {'uri': {'label': 'https://itunes.apple.com/us/reviews/id1357727288'},\n",
              "     'name': {'label': 'Mac1000$'},\n",
              "     'label': ''},\n",
              "    'updated': {'label': '2024-10-08T12:49:24-07:00'},\n",
              "    'im:rating': {'label': '5'},\n",
              "    'im:version': {'label': '3.1.6.1'},\n",
              "    'id': {'label': '11812184338'},\n",
              "    'title': {'label': 'I’m loving It'},\n",
              "    'content': {'label': 'This is by far the best product I done ever owned. IT’s everything and some.',\n",
              "     'attributes': {'type': 'text'}},\n",
              "    'link': {'attributes': {'rel': 'related',\n",
              "      'href': 'https://itunes.apple.com/us/review?id=1288415553&type=Purple%20Software'}},\n",
              "    'im:voteSum': {'label': '0'},\n",
              "    'im:contentType': {'attributes': {'term': 'Application',\n",
              "      'label': 'Application'}},\n",
              "    'im:voteCount': {'label': '0'}},\n",
              "   {'author': {'uri': {'label': 'https://itunes.apple.com/us/reviews/id313648954'},\n",
              "     'name': {'label': 'Txdave210'},\n",
              "     'label': ''},\n",
              "    'updated': {'label': '2024-10-08T10:46:02-07:00'},\n",
              "    'im:rating': {'label': '1'},\n",
              "    'im:version': {'label': '3.1.6.1'},\n",
              "    'id': {'label': '11811857144'},\n",
              "    'title': {'label': 'Wyze camera'},\n",
              "    'content': {'label': 'The camera is unclear . All red .',\n",
              "     'attributes': {'type': 'text'}},\n",
              "    'link': {'attributes': {'rel': 'related',\n",
              "      'href': 'https://itunes.apple.com/us/review?id=1288415553&type=Purple%20Software'}},\n",
              "    'im:voteSum': {'label': '0'},\n",
              "    'im:contentType': {'attributes': {'term': 'Application',\n",
              "      'label': 'Application'}},\n",
              "    'im:voteCount': {'label': '0'}},\n",
              "   {'author': {'uri': {'label': 'https://itunes.apple.com/us/reviews/id1235093559'},\n",
              "     'name': {'label': 'zdfhrueocnd'},\n",
              "     'label': ''},\n",
              "    'updated': {'label': '2024-10-08T09:18:34-07:00'},\n",
              "    'im:rating': {'label': '2'},\n",
              "    'im:version': {'label': '3.1.6.1'},\n",
              "    'id': {'label': '11811604184'},\n",
              "    'title': {'label': 'pleased, for a while'},\n",
              "    'content': {'label': \"For 5 years, the app and cameras worked well. Now, the livestream functionality no like ger works when I'm at home on the same wifi network as the cameras.  The event recording does still seem to work.\\n\\nUPDATE: After a week of not working, it started working again, so I am changing my rating.\\n\\nUPDATE 2: Livestream functionality has stopped working again. It may be time for me to switch to a different brand of cameras.\",\n",
              "     'attributes': {'type': 'text'}},\n",
              "    'link': {'attributes': {'rel': 'related',\n",
              "      'href': 'https://itunes.apple.com/us/review?id=1288415553&type=Purple%20Software'}},\n",
              "    'im:voteSum': {'label': '0'},\n",
              "    'im:contentType': {'attributes': {'term': 'Application',\n",
              "      'label': 'Application'}},\n",
              "    'im:voteCount': {'label': '0'}},\n",
              "   {'author': {'uri': {'label': 'https://itunes.apple.com/us/reviews/id13532414'},\n",
              "     'name': {'label': '4Puckersunite!'},\n",
              "     'label': ''},\n",
              "    'updated': {'label': '2024-10-08T08:07:47-07:00'},\n",
              "    'im:rating': {'label': '2'},\n",
              "    'im:version': {'label': '3.1.6.1'},\n",
              "    'id': {'label': '11811384076'},\n",
              "    'title': {'label': 'Wacky'},\n",
              "    'content': {'label': 'I like the style and size but the controls don’t work on the app. I can’t turn them off, they come up with setting changes I didn’t make. I really would like to see a decent camera with a decent software suite come down the pile. Someday.',\n",
              "     'attributes': {'type': 'text'}},\n",
              "    'link': {'attributes': {'rel': 'related',\n",
              "      'href': 'https://itunes.apple.com/us/review?id=1288415553&type=Purple%20Software'}},\n",
              "    'im:voteSum': {'label': '0'},\n",
              "    'im:contentType': {'attributes': {'term': 'Application',\n",
              "      'label': 'Application'}},\n",
              "    'im:voteCount': {'label': '0'}}],\n",
              "  'updated': {'label': '2024-10-14T19:14:35-07:00'},\n",
              "  'rights': {'label': 'Copyright 2008 Apple Inc.'},\n",
              "  'title': {'label': 'iTunes Store: Customer Reviews'},\n",
              "  'icon': {'label': 'http://itunes.apple.com/favicon.ico'},\n",
              "  'link': [{'attributes': {'rel': 'alternate',\n",
              "     'type': 'text/html',\n",
              "     'href': 'https://music.apple.com/WebObjects/MZStore.woa/wa/viewGrouping?cc=us&id=1'}},\n",
              "   {'attributes': {'rel': 'self',\n",
              "     'href': 'https://mzstoreservices-int-st.itunes.apple.com/us/rss/customerreviews/id=1288415553/json'}},\n",
              "   {'attributes': {'rel': 'first',\n",
              "     'href': 'https://itunes.apple.com/us/rss/customerreviews/page=1/id=1288415553/sortby=mostrecent/xml?urlDesc=/customerreviews/id=1288415553/json'}},\n",
              "   {'attributes': {'rel': 'last',\n",
              "     'href': 'https://itunes.apple.com/us/rss/customerreviews/page=10/id=1288415553/sortby=mostrecent/xml?urlDesc=/customerreviews/id=1288415553/json'}},\n",
              "   {'attributes': {'rel': 'previous',\n",
              "     'href': 'https://itunes.apple.com/us/rss/customerreviews/page=1/id=1288415553/sortby=mostrecent/xml?urlDesc=/customerreviews/id=1288415553/json'}},\n",
              "   {'attributes': {'rel': 'next',\n",
              "     'href': 'https://itunes.apple.com/us/rss/customerreviews/page=2/id=1288415553/sortby=mostrecent/xml?urlDesc=/customerreviews/id=1288415553/json'}}],\n",
              "  'id': {'label': 'https://mzstoreservices-int-st.itunes.apple.com/us/rss/customerreviews/id=1288415553/json'}}}"
            ]
          },
          "execution_count": 54,
          "metadata": {},
          "output_type": "execute_result"
        }
      ],
      "source": [
        "reviews"
      ]
    },
    {
      "cell_type": "code",
      "execution_count": 11,
      "metadata": {
        "id": "xlsy_VY8A1MO"
      },
      "outputs": [
        {
          "name": "stdout",
          "output_type": "stream",
          "text": [
            "dict_keys(['feed'])\n",
            "dict_keys(['author', 'entry', 'updated', 'rights', 'title', 'icon', 'link', 'id'])\n",
            "{'author': {'uri': {'label': 'https://itunes.apple.com/us/reviews/id1330696046'}, 'name': {'label': 'raka1jmj'}, 'label': ''}, 'updated': {'label': '2024-10-13T09:17:57-07:00'}, 'im:rating': {'label': '1'}, 'im:version': {'label': '3.1.6.1'}, 'id': {'label': '11829940196'}, 'title': {'label': 'Review'}, 'content': {'label': 'I purchased service for a year. Constantly had difficulty with live coverage. If you things when it wants to not when it should. Now the image is hazy not clear. I am not happy with this device.', 'attributes': {'type': 'text'}}, 'link': {'attributes': {'rel': 'related', 'href': 'https://itunes.apple.com/us/review?id=1288415553&type=Purple%20Software'}}, 'im:voteSum': {'label': '0'}, 'im:contentType': {'attributes': {'term': 'Application', 'label': 'Application'}}, 'im:voteCount': {'label': '0'}}\n",
            "I purchased service for a year. Constantly had difficulty with live coverage. If you things when it wants to not when it should. Now the image is hazy not clear. I am not happy with this device.\n"
          ]
        }
      ],
      "source": [
        "print(reviews.keys())\n",
        "print(reviews[\"feed\"].keys())\n",
        "print(reviews[\"feed\"][\"entry\"][0])\n",
        "print(reviews[\"feed\"][\"entry\"][0][\"content\"][\"label\"])"
      ]
    },
    {
      "cell_type": "code",
      "execution_count": 20,
      "metadata": {},
      "outputs": [
        {
          "name": "stdout",
          "output_type": "stream",
          "text": [
            "[2, 4, 6, 8]\n",
            "[2, 4, 6, 8]\n"
          ]
        }
      ],
      "source": [
        "myList = [1,2,3,4]\n",
        "doubled = list()\n",
        "\n",
        "for i in range(0, len(myList)):\n",
        "    newVal = myList[i] * 2\n",
        "    doubled.append(newVal)\n",
        "\n",
        "print(doubled)\n",
        "\n",
        "# or \n",
        "\n",
        "doubled = [num * 2 for num in myList]\n",
        "print(doubled)"
      ]
    }
  ],
  "metadata": {
    "colab": {
      "provenance": []
    },
    "kernelspec": {
      "display_name": "base",
      "language": "python",
      "name": "python3"
    },
    "language_info": {
      "codemirror_mode": {
        "name": "ipython",
        "version": 3
      },
      "file_extension": ".py",
      "mimetype": "text/x-python",
      "name": "python",
      "nbconvert_exporter": "python",
      "pygments_lexer": "ipython3",
      "version": "3.12.4"
    }
  },
  "nbformat": 4,
  "nbformat_minor": 0
}
